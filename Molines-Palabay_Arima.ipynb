{
 "cells": [
  {
   "cell_type": "code",
   "execution_count": 1,
   "metadata": {},
   "outputs": [],
   "source": [
    "#Import Liblaries\n",
    "import pandas as pd\n",
    "from sklearn.linear_model import LinearRegression\n",
    "from sklearn.tree import DecisionTreeClassifier\n",
    "from sklearn.model_selection import train_test_split\n",
    "from sklearn.metrics import r2_score, explained_variance_score, mean_absolute_error, mean_squared_error\n",
    "from math import sqrt\n",
    "from sklearn import linear_model\n",
    "import tkinter as tk \n",
    "from matplotlib.backends.backend_tkagg import FigureCanvasTkAgg\n",
    "from sklearn import linear_model\n",
    "import tkinter as tk \n",
    "import matplotlib.pyplot as plt\n",
    "from matplotlib.backends.backend_tkagg import FigureCanvasTkAgg\n",
    "import numpy as np\n",
    "import seaborn as sns"
   ]
  },
  {
   "cell_type": "markdown",
   "metadata": {},
   "source": [
    "# Data Exploration\n"
   ]
  },
  {
   "cell_type": "code",
   "execution_count": 2,
   "metadata": {},
   "outputs": [
    {
     "data": {
      "text/html": [
       "<div>\n",
       "<style scoped>\n",
       "    .dataframe tbody tr th:only-of-type {\n",
       "        vertical-align: middle;\n",
       "    }\n",
       "\n",
       "    .dataframe tbody tr th {\n",
       "        vertical-align: top;\n",
       "    }\n",
       "\n",
       "    .dataframe thead th {\n",
       "        text-align: right;\n",
       "    }\n",
       "</style>\n",
       "<table border=\"1\" class=\"dataframe\">\n",
       "  <thead>\n",
       "    <tr style=\"text-align: right;\">\n",
       "      <th></th>\n",
       "      <th>PERIOD</th>\n",
       "      <th>AverageTemperature</th>\n",
       "    </tr>\n",
       "  </thead>\n",
       "  <tbody>\n",
       "    <tr>\n",
       "      <th>0</th>\n",
       "      <td>1853-01-01</td>\n",
       "      <td>24.219</td>\n",
       "    </tr>\n",
       "    <tr>\n",
       "      <th>1</th>\n",
       "      <td>1853-02-01</td>\n",
       "      <td>23.765</td>\n",
       "    </tr>\n",
       "    <tr>\n",
       "      <th>2</th>\n",
       "      <td>1853-03-01</td>\n",
       "      <td>25.812</td>\n",
       "    </tr>\n",
       "    <tr>\n",
       "      <th>3</th>\n",
       "      <td>1853-04-01</td>\n",
       "      <td>26.842</td>\n",
       "    </tr>\n",
       "    <tr>\n",
       "      <th>4</th>\n",
       "      <td>1853-05-01</td>\n",
       "      <td>27.647</td>\n",
       "    </tr>\n",
       "    <tr>\n",
       "      <th>...</th>\n",
       "      <td>...</td>\n",
       "      <td>...</td>\n",
       "    </tr>\n",
       "    <tr>\n",
       "      <th>1915</th>\n",
       "      <td>2012-08-01</td>\n",
       "      <td>27.586</td>\n",
       "    </tr>\n",
       "    <tr>\n",
       "      <th>1916</th>\n",
       "      <td>2012-09-01</td>\n",
       "      <td>27.328</td>\n",
       "    </tr>\n",
       "    <tr>\n",
       "      <th>1917</th>\n",
       "      <td>2012-10-01</td>\n",
       "      <td>26.862</td>\n",
       "    </tr>\n",
       "    <tr>\n",
       "      <th>1918</th>\n",
       "      <td>2012-11-01</td>\n",
       "      <td>27.144</td>\n",
       "    </tr>\n",
       "    <tr>\n",
       "      <th>1919</th>\n",
       "      <td>2012-12-01</td>\n",
       "      <td>26.624</td>\n",
       "    </tr>\n",
       "  </tbody>\n",
       "</table>\n",
       "<p>1920 rows × 2 columns</p>\n",
       "</div>"
      ],
      "text/plain": [
       "         PERIOD  AverageTemperature\n",
       "0    1853-01-01              24.219\n",
       "1    1853-02-01              23.765\n",
       "2    1853-03-01              25.812\n",
       "3    1853-04-01              26.842\n",
       "4    1853-05-01              27.647\n",
       "...         ...                 ...\n",
       "1915 2012-08-01              27.586\n",
       "1916 2012-09-01              27.328\n",
       "1917 2012-10-01              26.862\n",
       "1918 2012-11-01              27.144\n",
       "1919 2012-12-01              26.624\n",
       "\n",
       "[1920 rows x 2 columns]"
      ]
     },
     "execution_count": 2,
     "metadata": {},
     "output_type": "execute_result"
    }
   ],
   "source": [
    "#load csv and parse PERIOD columns\n",
    "df = pd.read_csv('AVERAGE TEMPERATURE.csv', parse_dates=['PERIOD'])\n",
    "df"
   ]
  },
  {
   "cell_type": "code",
   "execution_count": 3,
   "metadata": {},
   "outputs": [
    {
     "name": "stdout",
     "output_type": "stream",
     "text": [
      "\n",
      " Data Types:\n"
     ]
    },
    {
     "data": {
      "text/plain": [
       "PERIOD                datetime64[ns]\n",
       "AverageTemperature           float64\n",
       "dtype: object"
      ]
     },
     "execution_count": 3,
     "metadata": {},
     "output_type": "execute_result"
    }
   ],
   "source": [
    "#Print data types of dataframe columns\n",
    "print ('\\n Data Types:')\n",
    "df.dtypes"
   ]
  },
  {
   "cell_type": "code",
   "execution_count": 5,
   "metadata": {},
   "outputs": [
    {
     "data": {
      "text/plain": [
       "(1920, 2)"
      ]
     },
     "execution_count": 5,
     "metadata": {},
     "output_type": "execute_result"
    }
   ],
   "source": [
    "#Show the number of rows and columns.\n",
    "df.shape"
   ]
  },
  {
   "cell_type": "code",
   "execution_count": 6,
   "metadata": {},
   "outputs": [
    {
     "data": {
      "text/plain": [
       "Index(['PERIOD', 'AverageTemperature'], dtype='object')"
      ]
     },
     "execution_count": 6,
     "metadata": {},
     "output_type": "execute_result"
    }
   ],
   "source": [
    "#Show all the column labels of the dataframe.\n",
    "df.columns"
   ]
  },
  {
   "cell_type": "code",
   "execution_count": 7,
   "metadata": {},
   "outputs": [
    {
     "data": {
      "text/plain": [
       "PERIOD                 0\n",
       "AverageTemperature    38\n",
       "dtype: int64"
      ]
     },
     "execution_count": 7,
     "metadata": {},
     "output_type": "execute_result"
    }
   ],
   "source": [
    "#Check if there are Nan values\n",
    "df.isna().sum()"
   ]
  },
  {
   "cell_type": "markdown",
   "metadata": {},
   "source": [
    "# Data processing\n",
    "\n",
    "#### The AVERAGE TEMPERATURE.csv set contains inaacurate date values and null values. Before creating a model, the data will be preproccesses and cleaned in order to achive better results/ metrics "
   ]
  },
  {
   "cell_type": "code",
   "execution_count": 8,
   "metadata": {},
   "outputs": [
    {
     "data": {
      "text/plain": [
       "PERIOD                0\n",
       "AverageTemperature    0\n",
       "dtype: int64"
      ]
     },
     "execution_count": 8,
     "metadata": {},
     "output_type": "execute_result"
    }
   ],
   "source": [
    "#remove rows and columns with Null/NaN\n",
    "df = df.dropna()\n",
    "#Check again for null values\n",
    "df.isnull().sum()"
   ]
  },
  {
   "cell_type": "code",
   "execution_count": 9,
   "metadata": {},
   "outputs": [
    {
     "name": "stderr",
     "output_type": "stream",
     "text": [
      "<ipython-input-9-127af7963eec>:2: SettingWithCopyWarning: \n",
      "A value is trying to be set on a copy of a slice from a DataFrame.\n",
      "Try using .loc[row_indexer,col_indexer] = value instead\n",
      "\n",
      "See the caveats in the documentation: https://pandas.pydata.org/pandas-docs/stable/user_guide/indexing.html#returning-a-view-versus-a-copy\n",
      "  df['PERIOD'] = pd.to_datetime(df['PERIOD'])\n",
      "<ipython-input-9-127af7963eec>:3: SettingWithCopyWarning: \n",
      "A value is trying to be set on a copy of a slice from a DataFrame.\n",
      "Try using .loc[row_indexer,col_indexer] = value instead\n",
      "\n",
      "See the caveats in the documentation: https://pandas.pydata.org/pandas-docs/stable/user_guide/indexing.html#returning-a-view-versus-a-copy\n",
      "  df['Year'], df['Month'] = df['PERIOD'].dt.year, df['PERIOD'].dt.month\n",
      "C:\\Users\\emman\\anaconda3\\lib\\site-packages\\pandas\\core\\frame.py:4163: SettingWithCopyWarning: \n",
      "A value is trying to be set on a copy of a slice from a DataFrame\n",
      "\n",
      "See the caveats in the documentation: https://pandas.pydata.org/pandas-docs/stable/user_guide/indexing.html#returning-a-view-versus-a-copy\n",
      "  return super().drop(\n"
     ]
    },
    {
     "data": {
      "text/html": [
       "<div>\n",
       "<style scoped>\n",
       "    .dataframe tbody tr th:only-of-type {\n",
       "        vertical-align: middle;\n",
       "    }\n",
       "\n",
       "    .dataframe tbody tr th {\n",
       "        vertical-align: top;\n",
       "    }\n",
       "\n",
       "    .dataframe thead th {\n",
       "        text-align: right;\n",
       "    }\n",
       "</style>\n",
       "<table border=\"1\" class=\"dataframe\">\n",
       "  <thead>\n",
       "    <tr style=\"text-align: right;\">\n",
       "      <th></th>\n",
       "      <th>PERIOD</th>\n",
       "      <th>AverageTemperature</th>\n",
       "      <th>Year</th>\n",
       "      <th>Month</th>\n",
       "    </tr>\n",
       "  </thead>\n",
       "  <tbody>\n",
       "    <tr>\n",
       "      <th>0</th>\n",
       "      <td>1853-01-01</td>\n",
       "      <td>24.219</td>\n",
       "      <td>1853</td>\n",
       "      <td>1</td>\n",
       "    </tr>\n",
       "    <tr>\n",
       "      <th>1</th>\n",
       "      <td>1853-02-01</td>\n",
       "      <td>23.765</td>\n",
       "      <td>1853</td>\n",
       "      <td>2</td>\n",
       "    </tr>\n",
       "    <tr>\n",
       "      <th>2</th>\n",
       "      <td>1853-03-01</td>\n",
       "      <td>25.812</td>\n",
       "      <td>1853</td>\n",
       "      <td>3</td>\n",
       "    </tr>\n",
       "    <tr>\n",
       "      <th>3</th>\n",
       "      <td>1853-04-01</td>\n",
       "      <td>26.842</td>\n",
       "      <td>1853</td>\n",
       "      <td>4</td>\n",
       "    </tr>\n",
       "    <tr>\n",
       "      <th>4</th>\n",
       "      <td>1853-05-01</td>\n",
       "      <td>27.647</td>\n",
       "      <td>1853</td>\n",
       "      <td>5</td>\n",
       "    </tr>\n",
       "    <tr>\n",
       "      <th>...</th>\n",
       "      <td>...</td>\n",
       "      <td>...</td>\n",
       "      <td>...</td>\n",
       "      <td>...</td>\n",
       "    </tr>\n",
       "    <tr>\n",
       "      <th>1915</th>\n",
       "      <td>2012-08-01</td>\n",
       "      <td>27.586</td>\n",
       "      <td>2012</td>\n",
       "      <td>8</td>\n",
       "    </tr>\n",
       "    <tr>\n",
       "      <th>1916</th>\n",
       "      <td>2012-09-01</td>\n",
       "      <td>27.328</td>\n",
       "      <td>2012</td>\n",
       "      <td>9</td>\n",
       "    </tr>\n",
       "    <tr>\n",
       "      <th>1917</th>\n",
       "      <td>2012-10-01</td>\n",
       "      <td>26.862</td>\n",
       "      <td>2012</td>\n",
       "      <td>10</td>\n",
       "    </tr>\n",
       "    <tr>\n",
       "      <th>1918</th>\n",
       "      <td>2012-11-01</td>\n",
       "      <td>27.144</td>\n",
       "      <td>2012</td>\n",
       "      <td>11</td>\n",
       "    </tr>\n",
       "    <tr>\n",
       "      <th>1919</th>\n",
       "      <td>2012-12-01</td>\n",
       "      <td>26.624</td>\n",
       "      <td>2012</td>\n",
       "      <td>12</td>\n",
       "    </tr>\n",
       "  </tbody>\n",
       "</table>\n",
       "<p>1186 rows × 4 columns</p>\n",
       "</div>"
      ],
      "text/plain": [
       "         PERIOD  AverageTemperature  Year  Month\n",
       "0    1853-01-01              24.219  1853      1\n",
       "1    1853-02-01              23.765  1853      2\n",
       "2    1853-03-01              25.812  1853      3\n",
       "3    1853-04-01              26.842  1853      4\n",
       "4    1853-05-01              27.647  1853      5\n",
       "...         ...                 ...   ...    ...\n",
       "1915 2012-08-01              27.586  2012      8\n",
       "1916 2012-09-01              27.328  2012      9\n",
       "1917 2012-10-01              26.862  2012     10\n",
       "1918 2012-11-01              27.144  2012     11\n",
       "1919 2012-12-01              26.624  2012     12\n",
       "\n",
       "[1186 rows x 4 columns]"
      ]
     },
     "execution_count": 9,
     "metadata": {},
     "output_type": "execute_result"
    }
   ],
   "source": [
    "#Separete month and year from PERIOD field to create a condition\n",
    "df['PERIOD'] = pd.to_datetime(df['PERIOD'])\n",
    "df['Year'], df['Month'] = df['PERIOD'].dt.year, df['PERIOD'].dt.month\n",
    "\n",
    "#Create a condtion that all year greater than 2012 will be removed\n",
    "invalidValues = df[df['Year'] > 2012 ].index\n",
    "#Drop rows with invalid values\n",
    "df.drop(invalidValues , inplace=True)\n",
    "df"
   ]
  },
  {
   "cell_type": "code",
   "execution_count": 10,
   "metadata": {},
   "outputs": [
    {
     "data": {
      "text/html": [
       "<div>\n",
       "<style scoped>\n",
       "    .dataframe tbody tr th:only-of-type {\n",
       "        vertical-align: middle;\n",
       "    }\n",
       "\n",
       "    .dataframe tbody tr th {\n",
       "        vertical-align: top;\n",
       "    }\n",
       "\n",
       "    .dataframe thead th {\n",
       "        text-align: right;\n",
       "    }\n",
       "</style>\n",
       "<table border=\"1\" class=\"dataframe\">\n",
       "  <thead>\n",
       "    <tr style=\"text-align: right;\">\n",
       "      <th></th>\n",
       "      <th>PERIOD</th>\n",
       "      <th>AverageTemperature</th>\n",
       "    </tr>\n",
       "  </thead>\n",
       "  <tbody>\n",
       "    <tr>\n",
       "      <th>0</th>\n",
       "      <td>1853-01-01</td>\n",
       "      <td>24.219</td>\n",
       "    </tr>\n",
       "    <tr>\n",
       "      <th>1</th>\n",
       "      <td>1853-02-01</td>\n",
       "      <td>23.765</td>\n",
       "    </tr>\n",
       "    <tr>\n",
       "      <th>2</th>\n",
       "      <td>1853-03-01</td>\n",
       "      <td>25.812</td>\n",
       "    </tr>\n",
       "    <tr>\n",
       "      <th>3</th>\n",
       "      <td>1853-04-01</td>\n",
       "      <td>26.842</td>\n",
       "    </tr>\n",
       "    <tr>\n",
       "      <th>4</th>\n",
       "      <td>1853-05-01</td>\n",
       "      <td>27.647</td>\n",
       "    </tr>\n",
       "    <tr>\n",
       "      <th>...</th>\n",
       "      <td>...</td>\n",
       "      <td>...</td>\n",
       "    </tr>\n",
       "    <tr>\n",
       "      <th>1915</th>\n",
       "      <td>2012-08-01</td>\n",
       "      <td>27.586</td>\n",
       "    </tr>\n",
       "    <tr>\n",
       "      <th>1916</th>\n",
       "      <td>2012-09-01</td>\n",
       "      <td>27.328</td>\n",
       "    </tr>\n",
       "    <tr>\n",
       "      <th>1917</th>\n",
       "      <td>2012-10-01</td>\n",
       "      <td>26.862</td>\n",
       "    </tr>\n",
       "    <tr>\n",
       "      <th>1918</th>\n",
       "      <td>2012-11-01</td>\n",
       "      <td>27.144</td>\n",
       "    </tr>\n",
       "    <tr>\n",
       "      <th>1919</th>\n",
       "      <td>2012-12-01</td>\n",
       "      <td>26.624</td>\n",
       "    </tr>\n",
       "  </tbody>\n",
       "</table>\n",
       "<p>1186 rows × 2 columns</p>\n",
       "</div>"
      ],
      "text/plain": [
       "         PERIOD  AverageTemperature\n",
       "0    1853-01-01              24.219\n",
       "1    1853-02-01              23.765\n",
       "2    1853-03-01              25.812\n",
       "3    1853-04-01              26.842\n",
       "4    1853-05-01              27.647\n",
       "...         ...                 ...\n",
       "1915 2012-08-01              27.586\n",
       "1916 2012-09-01              27.328\n",
       "1917 2012-10-01              26.862\n",
       "1918 2012-11-01              27.144\n",
       "1919 2012-12-01              26.624\n",
       "\n",
       "[1186 rows x 2 columns]"
      ]
     },
     "execution_count": 10,
     "metadata": {},
     "output_type": "execute_result"
    }
   ],
   "source": [
    "#Drop the unnecessary columns\n",
    "df = df.drop(['Year', 'Month'], axis=1)\n",
    "df"
   ]
  },
  {
   "cell_type": "code",
   "execution_count": 11,
   "metadata": {},
   "outputs": [
    {
     "data": {
      "text/html": [
       "<div>\n",
       "<style scoped>\n",
       "    .dataframe tbody tr th:only-of-type {\n",
       "        vertical-align: middle;\n",
       "    }\n",
       "\n",
       "    .dataframe tbody tr th {\n",
       "        vertical-align: top;\n",
       "    }\n",
       "\n",
       "    .dataframe thead th {\n",
       "        text-align: right;\n",
       "    }\n",
       "</style>\n",
       "<table border=\"1\" class=\"dataframe\">\n",
       "  <thead>\n",
       "    <tr style=\"text-align: right;\">\n",
       "      <th></th>\n",
       "      <th>PERIOD</th>\n",
       "      <th>AverageTemperature</th>\n",
       "    </tr>\n",
       "  </thead>\n",
       "  <tbody>\n",
       "    <tr>\n",
       "      <th>0</th>\n",
       "      <td>1853-01-01</td>\n",
       "      <td>24.219</td>\n",
       "    </tr>\n",
       "    <tr>\n",
       "      <th>1</th>\n",
       "      <td>1853-02-01</td>\n",
       "      <td>23.765</td>\n",
       "    </tr>\n",
       "    <tr>\n",
       "      <th>2</th>\n",
       "      <td>1853-03-01</td>\n",
       "      <td>25.812</td>\n",
       "    </tr>\n",
       "    <tr>\n",
       "      <th>3</th>\n",
       "      <td>1853-04-01</td>\n",
       "      <td>26.842</td>\n",
       "    </tr>\n",
       "    <tr>\n",
       "      <th>4</th>\n",
       "      <td>1853-05-01</td>\n",
       "      <td>27.647</td>\n",
       "    </tr>\n",
       "    <tr>\n",
       "      <th>...</th>\n",
       "      <td>...</td>\n",
       "      <td>...</td>\n",
       "    </tr>\n",
       "    <tr>\n",
       "      <th>1917</th>\n",
       "      <td>2012-10-01</td>\n",
       "      <td>26.862</td>\n",
       "    </tr>\n",
       "    <tr>\n",
       "      <th>718</th>\n",
       "      <td>2012-11-01</td>\n",
       "      <td>25.845</td>\n",
       "    </tr>\n",
       "    <tr>\n",
       "      <th>1918</th>\n",
       "      <td>2012-11-01</td>\n",
       "      <td>27.144</td>\n",
       "    </tr>\n",
       "    <tr>\n",
       "      <th>719</th>\n",
       "      <td>2012-12-01</td>\n",
       "      <td>25.177</td>\n",
       "    </tr>\n",
       "    <tr>\n",
       "      <th>1919</th>\n",
       "      <td>2012-12-01</td>\n",
       "      <td>26.624</td>\n",
       "    </tr>\n",
       "  </tbody>\n",
       "</table>\n",
       "<p>1186 rows × 2 columns</p>\n",
       "</div>"
      ],
      "text/plain": [
       "         PERIOD  AverageTemperature\n",
       "0    1853-01-01              24.219\n",
       "1    1853-02-01              23.765\n",
       "2    1853-03-01              25.812\n",
       "3    1853-04-01              26.842\n",
       "4    1853-05-01              27.647\n",
       "...         ...                 ...\n",
       "1917 2012-10-01              26.862\n",
       "718  2012-11-01              25.845\n",
       "1918 2012-11-01              27.144\n",
       "719  2012-12-01              25.177\n",
       "1919 2012-12-01              26.624\n",
       "\n",
       "[1186 rows x 2 columns]"
      ]
     },
     "execution_count": 11,
     "metadata": {},
     "output_type": "execute_result"
    }
   ],
   "source": [
    "#Sort the Period column()\n",
    "sortedDF = df.sort_values(by=['PERIOD'])\n",
    "sortedDF"
   ]
  },
  {
   "cell_type": "code",
   "execution_count": 12,
   "metadata": {},
   "outputs": [
    {
     "data": {
      "text/html": [
       "<div>\n",
       "<style scoped>\n",
       "    .dataframe tbody tr th:only-of-type {\n",
       "        vertical-align: middle;\n",
       "    }\n",
       "\n",
       "    .dataframe tbody tr th {\n",
       "        vertical-align: top;\n",
       "    }\n",
       "\n",
       "    .dataframe thead th {\n",
       "        text-align: right;\n",
       "    }\n",
       "</style>\n",
       "<table border=\"1\" class=\"dataframe\">\n",
       "  <thead>\n",
       "    <tr style=\"text-align: right;\">\n",
       "      <th></th>\n",
       "      <th>AverageTemperature</th>\n",
       "    </tr>\n",
       "    <tr>\n",
       "      <th>PERIOD</th>\n",
       "      <th></th>\n",
       "    </tr>\n",
       "  </thead>\n",
       "  <tbody>\n",
       "    <tr>\n",
       "      <th>1853-01-01</th>\n",
       "      <td>24.219</td>\n",
       "    </tr>\n",
       "    <tr>\n",
       "      <th>1853-02-01</th>\n",
       "      <td>23.765</td>\n",
       "    </tr>\n",
       "    <tr>\n",
       "      <th>1853-03-01</th>\n",
       "      <td>25.812</td>\n",
       "    </tr>\n",
       "    <tr>\n",
       "      <th>1853-04-01</th>\n",
       "      <td>26.842</td>\n",
       "    </tr>\n",
       "    <tr>\n",
       "      <th>1853-05-01</th>\n",
       "      <td>27.647</td>\n",
       "    </tr>\n",
       "    <tr>\n",
       "      <th>...</th>\n",
       "      <td>...</td>\n",
       "    </tr>\n",
       "    <tr>\n",
       "      <th>2012-10-01</th>\n",
       "      <td>26.862</td>\n",
       "    </tr>\n",
       "    <tr>\n",
       "      <th>2012-11-01</th>\n",
       "      <td>25.845</td>\n",
       "    </tr>\n",
       "    <tr>\n",
       "      <th>2012-11-01</th>\n",
       "      <td>27.144</td>\n",
       "    </tr>\n",
       "    <tr>\n",
       "      <th>2012-12-01</th>\n",
       "      <td>25.177</td>\n",
       "    </tr>\n",
       "    <tr>\n",
       "      <th>2012-12-01</th>\n",
       "      <td>26.624</td>\n",
       "    </tr>\n",
       "  </tbody>\n",
       "</table>\n",
       "<p>1186 rows × 1 columns</p>\n",
       "</div>"
      ],
      "text/plain": [
       "            AverageTemperature\n",
       "PERIOD                        \n",
       "1853-01-01              24.219\n",
       "1853-02-01              23.765\n",
       "1853-03-01              25.812\n",
       "1853-04-01              26.842\n",
       "1853-05-01              27.647\n",
       "...                        ...\n",
       "2012-10-01              26.862\n",
       "2012-11-01              25.845\n",
       "2012-11-01              27.144\n",
       "2012-12-01              25.177\n",
       "2012-12-01              26.624\n",
       "\n",
       "[1186 rows x 1 columns]"
      ]
     },
     "execution_count": 12,
     "metadata": {},
     "output_type": "execute_result"
    }
   ],
   "source": [
    "#set the PERIOD column as the dataframe index\n",
    "df = sortedDF.set_index('PERIOD')\n",
    "df"
   ]
  },
  {
   "cell_type": "code",
   "execution_count": 13,
   "metadata": {},
   "outputs": [],
   "source": [
    "#split sortedDF into 80-20 split\n",
    "train, test = train_test_split(sortedDF, test_size=0.80)\n",
    "#set PERIOD as index\n",
    "train = train.set_index('PERIOD')\n",
    "test = test.set_index('PERIOD')"
   ]
  },
  {
   "source": [
    "# Arima Model"
   ],
   "cell_type": "markdown",
   "metadata": {}
  },
  {
   "cell_type": "code",
   "execution_count": 14,
   "metadata": {},
   "outputs": [
    {
     "name": "stdout",
     "output_type": "stream",
     "text": [
      "1. ADF :  -1.8094206233887948\n",
      "2. P-Value :  0.3757947477441947\n",
      "3. Num Of Lags :  23\n",
      "4. Num Of Observations Used For ADF Regression: 1162\n",
      "5. Critical Values :\n",
      "\t 1% :  -3.4359901072390353\n",
      "\t 5% :  -2.86403051064684\n",
      "\t 10% :  -2.5680960046332366\n"
     ]
    }
   ],
   "source": [
    "#Check if data is stationary based on the P-value,P-value should be less than 0.5 to be stationary \n",
    "from statsmodels.tsa.stattools import adfuller\n",
    "def ad_test(dataset):\n",
    "     dftest = adfuller(dataset, autolag = 'AIC')\n",
    "     print(\"1. ADF : \",dftest[0])\n",
    "     print(\"2. P-Value : \", dftest[1])\n",
    "     print(\"3. Num Of Lags : \", dftest[2])\n",
    "     print(\"4. Num Of Observations Used For ADF Regression:\",      dftest[3])\n",
    "     print(\"5. Critical Values :\")\n",
    "     for key, val in dftest[4].items():\n",
    "         print(\"\\t\",key, \": \", val)\n",
    "ad_test(df['AverageTemperature'])"
   ]
  },
  {
   "cell_type": "code",
   "execution_count": 15,
   "metadata": {},
   "outputs": [
    {
     "name": "stdout",
     "output_type": "stream",
     "text": [
      "Model summary is\n"
     ]
    },
    {
     "name": "stderr",
     "output_type": "stream",
     "text": [
      "C:\\Users\\emman\\anaconda3\\lib\\site-packages\\statsmodels\\tsa\\base\\tsa_model.py:581: ValueWarning: A date index has been provided, but it has no associated frequency information and so will be ignored when e.g. forecasting.\n",
      "  warnings.warn('A date index has been provided, but it has no'\n",
      "C:\\Users\\emman\\anaconda3\\lib\\site-packages\\statsmodels\\tsa\\base\\tsa_model.py:581: ValueWarning: A date index has been provided, but it has no associated frequency information and so will be ignored when e.g. forecasting.\n",
      "  warnings.warn('A date index has been provided, but it has no'\n"
     ]
    },
    {
     "name": "stdout",
     "output_type": "stream",
     "text": [
      "==============================================================================\n",
      "                 coef    std err          z      P>|z|      [0.025      0.975]\n",
      "------------------------------------------------------------------------------\n",
      "ar.L1          1.5884      0.026     60.674      0.000       1.537       1.640\n",
      "ar.L2         -0.8206      0.024    -34.468      0.000      -0.867      -0.774\n",
      "ma.L1         -1.8811      0.038    -49.100      0.000      -1.956      -1.806\n",
      "ma.L2          1.1023      0.064     17.128      0.000       0.976       1.228\n",
      "ma.L3         -0.2109      0.036     -5.938      0.000      -0.281      -0.141\n",
      "sigma2         0.4014      0.015     25.926      0.000       0.371       0.432\n",
      "==============================================================================\n"
     ]
    }
   ],
   "source": [
    "import statsmodels.api as sm\n",
    "\n",
    "print(\"Model summary is\")\n",
    "mod = sm.tsa.statespace.SARIMAX(df['AverageTemperature'],\n",
    "                               order =(2,1,3),\n",
    "                               param_seasonal = (2,1,1,12),\n",
    "                               enforce_stationarity = False,\n",
    "                               enforce_invertibility = False)\n",
    "result = mod.fit()\n",
    "print(result.summary().tables[1])"
   ]
  },
  {
   "cell_type": "code",
   "execution_count": 16,
   "metadata": {},
   "outputs": [
    {
     "name": "stdout",
     "output_type": "stream",
     "text": [
      "(50, 1)\n"
     ]
    },
    {
     "name": "stderr",
     "output_type": "stream",
     "text": [
      "C:\\Users\\emman\\anaconda3\\lib\\site-packages\\statsmodels\\tsa\\base\\tsa_model.py:376: ValueWarning: No supported index is available. Prediction results will be given with an integer index beginning at `start`.\n",
      "  warnings.warn('No supported index is available.'\n"
     ]
    },
    {
     "data": {
      "text/html": [
       "<div>\n",
       "<style scoped>\n",
       "    .dataframe tbody tr th:only-of-type {\n",
       "        vertical-align: middle;\n",
       "    }\n",
       "\n",
       "    .dataframe tbody tr th {\n",
       "        vertical-align: top;\n",
       "    }\n",
       "\n",
       "    .dataframe thead th {\n",
       "        text-align: right;\n",
       "    }\n",
       "</style>\n",
       "<table border=\"1\" class=\"dataframe\">\n",
       "  <thead>\n",
       "    <tr style=\"text-align: right;\">\n",
       "      <th></th>\n",
       "      <th>predicted_mean</th>\n",
       "    </tr>\n",
       "  </thead>\n",
       "  <tbody>\n",
       "    <tr>\n",
       "      <th>1186</th>\n",
       "      <td>26.684735</td>\n",
       "    </tr>\n",
       "    <tr>\n",
       "      <th>1187</th>\n",
       "      <td>26.917165</td>\n",
       "    </tr>\n",
       "    <tr>\n",
       "      <th>1188</th>\n",
       "      <td>27.058202</td>\n",
       "    </tr>\n",
       "    <tr>\n",
       "      <th>1189</th>\n",
       "      <td>27.091500</td>\n",
       "    </tr>\n",
       "    <tr>\n",
       "      <th>1190</th>\n",
       "      <td>27.028662</td>\n",
       "    </tr>\n",
       "  </tbody>\n",
       "</table>\n",
       "</div>"
      ],
      "text/plain": [
       "      predicted_mean\n",
       "1186       26.684735\n",
       "1187       26.917165\n",
       "1188       27.058202\n",
       "1189       27.091500\n",
       "1190       27.028662"
      ]
     },
     "execution_count": 16,
     "metadata": {},
     "output_type": "execute_result"
    }
   ],
   "source": [
    "#Predict Average Temperature starting from the last row of sortDF dataframe.\n",
    "pred_uc = result.get_forecast(steps=50) #Steps = number of rows that will be predicted\n",
    "pred_ci = pred_uc.predicted_mean\n",
    "pred_ci = pd.DataFrame(data=pred_ci)\n",
    "print(pred_ci.shape)\n",
    "pred_ci.head()"
   ]
  },
  {
   "cell_type": "code",
   "execution_count": 17,
   "metadata": {},
   "outputs": [
    {
     "name": "stderr",
     "output_type": "stream",
     "text": [
      "C:\\Users\\emman\\anaconda3\\lib\\site-packages\\pandas\\core\\indexing.py:670: SettingWithCopyWarning: \n",
      "A value is trying to be set on a copy of a slice from a DataFrame\n",
      "\n",
      "See the caveats in the documentation: https://pandas.pydata.org/pandas-docs/stable/user_guide/indexing.html#returning-a-view-versus-a-copy\n",
      "  iloc._setitem_with_indexer(indexer, value)\n"
     ]
    }
   ],
   "source": [
    "import datetime\n",
    "#Craete future dates\n",
    "\n",
    "# The size of each step in days\n",
    "day_delta = datetime.timedelta(days=31) #By months\n",
    "\n",
    "pred_ci['Futuredate'] = ''\n",
    "ftMonths = pred_ci['Futuredate']\n",
    "\n",
    "start_date = sortedDF['PERIOD'].max()\n",
    "end_date = start_date + 1*day_delta\n",
    "\n",
    "for i in range(50):\n",
    "    #Create future (i)months starting from date sortedDF['PERIOD'].max()\n",
    "    ftMonths.iloc[i] = (start_date + i*day_delta)"
   ]
  },
  {
   "cell_type": "code",
   "execution_count": 18,
   "metadata": {},
   "outputs": [],
   "source": [
    "#Transfer the content of future dates to temporary dataframe\n",
    "tempFuturedf = pd.DataFrame(data=ftMonths)\n",
    "\n",
    "#Combine the created future dates with the created predicted temperature\n",
    "\n",
    "pred_ci['Futuredate'] = tempFuturedf['Futuredate']\n",
    "\n",
    "#Convert string Date time into Python Date time object\n",
    "pred_ci['Futuredate']= pd.to_datetime(pred_ci['Futuredate'])\n",
    "\n",
    "#Set Futuredate as an index\n",
    "pred_ci = pred_ci.set_index('Futuredate')\n"
   ]
  },
  {
   "cell_type": "markdown",
   "metadata": {},
   "source": [
    "#### Based on the original dataset, next rows = next month.\n",
    "#### Therefore since the  Predicted temperature starts from the last row of the dataframe,  then we can assume that the next row date is next month.\n",
    "\n",
    "#### Then the created future dates by months will be combine with the predicted temperature"
   ]
  },
  {
   "cell_type": "code",
   "execution_count": 26,
   "metadata": {},
   "outputs": [
    {
     "data": {
      "text/html": [
       "<div>\n",
       "<style scoped>\n",
       "    .dataframe tbody tr th:only-of-type {\n",
       "        vertical-align: middle;\n",
       "    }\n",
       "\n",
       "    .dataframe tbody tr th {\n",
       "        vertical-align: top;\n",
       "    }\n",
       "\n",
       "    .dataframe thead th {\n",
       "        text-align: right;\n",
       "    }\n",
       "</style>\n",
       "<table border=\"1\" class=\"dataframe\">\n",
       "  <thead>\n",
       "    <tr style=\"text-align: right;\">\n",
       "      <th></th>\n",
       "      <th>predicted_AverageTemperature</th>\n",
       "    </tr>\n",
       "    <tr>\n",
       "      <th>Futuredate</th>\n",
       "      <th></th>\n",
       "    </tr>\n",
       "  </thead>\n",
       "  <tbody>\n",
       "    <tr>\n",
       "      <th>2012-12-01</th>\n",
       "      <td>26.684735</td>\n",
       "    </tr>\n",
       "    <tr>\n",
       "      <th>2013-01-01</th>\n",
       "      <td>26.917165</td>\n",
       "    </tr>\n",
       "    <tr>\n",
       "      <th>2013-02-01</th>\n",
       "      <td>27.058202</td>\n",
       "    </tr>\n",
       "    <tr>\n",
       "      <th>2013-03-04</th>\n",
       "      <td>27.091500</td>\n",
       "    </tr>\n",
       "    <tr>\n",
       "      <th>2013-04-04</th>\n",
       "      <td>27.028662</td>\n",
       "    </tr>\n",
       "  </tbody>\n",
       "</table>\n",
       "</div>"
      ],
      "text/plain": [
       "            predicted_AverageTemperature\n",
       "Futuredate                              \n",
       "2012-12-01                     26.684735\n",
       "2013-01-01                     26.917165\n",
       "2013-02-01                     27.058202\n",
       "2013-03-04                     27.091500\n",
       "2013-04-04                     27.028662"
      ]
     },
     "execution_count": 26,
     "metadata": {},
     "output_type": "execute_result"
    }
   ],
   "source": [
    "#Rename the predicted_mean column into predicted_AverageTemperature\n",
    "pred_ci.rename(columns = {'predicted_mean':'predicted_AverageTemperature'}, inplace = True)\n",
    "#Print the Predicted data\n",
    "pred_ci.head()\n"
   ]
  },
  {
   "cell_type": "code",
   "execution_count": 27,
   "metadata": {},
   "outputs": [
    {
     "data": {
      "text/plain": [
       "<AxesSubplot:xlabel='Futuredate'>"
      ]
     },
     "execution_count": 27,
     "metadata": {},
     "output_type": "execute_result"
    },
    {
     "data": {
      "image/png": "[encoded data removed]",
      "text/plain": [
       "<Figure size 1080x576 with 1 Axes>"
      ]
     },
     "metadata": {
      "needs_background": "light"
     },
     "output_type": "display_data"
    }
   ],
   "source": [
    "#Plot the Actual/original data with predicted data\n",
    "plt.figure(figsize=(15,8))\n",
    "\n",
    "train, test = train_test_split(sortedDF, test_size=0.2)\n",
    "train = train.set_index('PERIOD')\n",
    "test = test.set_index('PERIOD')\n",
    "train['AverageTemperature'].plot(legend=True)\n",
    "pred_ci['predicted_AverageTemperature'].plot(legend=True)\n"
   ]
  },
  {
   "cell_type": "code",
   "execution_count": 1,
   "metadata": {},
   "outputs": [
    {
     "output_type": "error",
     "ename": "NameError",
     "evalue": "name 'tk' is not defined",
     "traceback": [
      "\u001b[0;31m---------------------------------------------------------------------------\u001b[0m",
      "\u001b[0;31mNameError\u001b[0m                                 Traceback (most recent call last)",
      "\u001b[0;32m<ipython-input-1-7f3592a43667>\u001b[0m in \u001b[0;36m<module>\u001b[0;34m\u001b[0m\n\u001b[1;32m      1\u001b[0m \u001b[0;31m## tkinter GUI\u001b[0m\u001b[0;34m\u001b[0m\u001b[0;34m\u001b[0m\u001b[0;34m\u001b[0m\u001b[0m\n\u001b[0;32m----> 2\u001b[0;31m \u001b[0mroot\u001b[0m\u001b[0;34m=\u001b[0m \u001b[0mtk\u001b[0m\u001b[0;34m.\u001b[0m\u001b[0mTk\u001b[0m\u001b[0;34m(\u001b[0m\u001b[0;34m)\u001b[0m\u001b[0;34m\u001b[0m\u001b[0;34m\u001b[0m\u001b[0m\n\u001b[0m\u001b[1;32m      3\u001b[0m \u001b[0;34m\u001b[0m\u001b[0m\n\u001b[1;32m      4\u001b[0m \u001b[0mcanvas1\u001b[0m \u001b[0;34m=\u001b[0m \u001b[0mtk\u001b[0m\u001b[0;34m.\u001b[0m\u001b[0mCanvas\u001b[0m\u001b[0;34m(\u001b[0m\u001b[0mroot\u001b[0m\u001b[0;34m,\u001b[0m \u001b[0mwidth\u001b[0m \u001b[0;34m=\u001b[0m \u001b[0;36m500\u001b[0m\u001b[0;34m,\u001b[0m \u001b[0mheight\u001b[0m \u001b[0;34m=\u001b[0m \u001b[0;36m300\u001b[0m\u001b[0;34m)\u001b[0m\u001b[0;34m\u001b[0m\u001b[0;34m\u001b[0m\u001b[0m\n\u001b[1;32m      5\u001b[0m \u001b[0mcanvas1\u001b[0m\u001b[0;34m.\u001b[0m\u001b[0mpack\u001b[0m\u001b[0;34m(\u001b[0m\u001b[0;34m)\u001b[0m\u001b[0;34m\u001b[0m\u001b[0;34m\u001b[0m\u001b[0m\n",
      "\u001b[0;31mNameError\u001b[0m: name 'tk' is not defined"
     ]
    }
   ],
   "source": [
    "## tkinter GUI\n",
    "root= tk.Tk()\n",
    "\n",
    "canvas1 = tk.Canvas(root, width = 500, height = 300)\n",
    "canvas1.pack()\n",
    "\n",
    "\n",
    "# New_Interest_Rate label and input box\n",
    "label1 = tk.Label(root, text='Type year: ')\n",
    "canvas1.create_window(100, 100, window=label1)\n",
    "\n",
    "entry1 = tk.Entry (root) # create 1st entry box\n",
    "canvas1.create_window(270, 100, window=entry1)\n",
    "\n",
    "def values(): \n",
    "    global New_Interest_Rate #our 1st input variable\n",
    "    New_Interest_Rate = int(entry1.get()) \n",
    "    \n",
    "    userInput = New_Interest_Rate - 2012\n",
    "    \n",
    "    from datetime import datetime\n",
    "\n",
    "    #start on 1882\n",
    "    pred_uc = result.get_forecast(steps=userInput*12) #steps = n. n = number of year starting from 1882\n",
    "    pred_ci = pred_uc.predicted_mean\n",
    "    pred_ci = pd.DataFrame(data=pred_ci)\n",
    "\n",
    "\n",
    "    #Create future dates\n",
    "    import datetime\n",
    "    # The size of each step in days\n",
    "    day_delta = datetime.timedelta(days=31)#By months\n",
    "\n",
    "    pred_ci['Futuredate'] = ''\n",
    "    fdate = pred_ci['Futuredate']\n",
    "\n",
    "    start_date = sortedDF['PERIOD'].max() #starting  date\n",
    "    end_date = start_date + 1*day_delta #End  date\n",
    "\n",
    "    for i in range(userInput*12):\n",
    "        #Create future (i)months starting from date sortedDF['PERIOD'].max()\n",
    "        fdate.iloc[i] = (start_date + i*day_delta)\n",
    "        \n",
    "        \n",
    "    #Combine the created future dates with the created predicted temperature\n",
    "    tempFdateDf = pd.DataFrame(data=fdate)\n",
    "    pred_ci['Futuredate'] = tempFdateDf['Futuredate']\n",
    "\n",
    "    pred_ci['Futuredate']= pd.to_datetime(pred_ci['Futuredate'])\n",
    "    pred_ci['Year'] = pred_ci['Futuredate'].dt.year\n",
    "\n",
    "    \n",
    "    #get the future temperature value based on the year inputed by the user\n",
    "    tkResult = pred_ci.loc[pred_ci['Year'] == New_Interest_Rate]\n",
    "\n",
    "\n",
    "    label_Prediction = tk.Label(root, text=  tkResult['predicted_mean'].tail(1), bg='orange')\n",
    "    canvas1.create_window(260, 280, window=label_Prediction)\n",
    "\n",
    "button1 = tk.Button (root, text='Predict Temperature',command=values, bg='orange') # button to call the 'values' command above \n",
    "canvas1.create_window(270, 150, window=button1)\n",
    " \n",
    "\n",
    "root.mainloop()"
   ]
  },
  {
   "cell_type": "code",
   "execution_count": null,
   "metadata": {},
   "outputs": [],
   "source": []
  }
 ],
 "metadata": {
  "kernelspec": {
   "name": "python3",
   "display_name": "Python 3.8.5 64-bit ('base': conda)"
  },
  "language_info": {
   "codemirror_mode": {
    "name": "ipython",
    "version": 3
   },
   "file_extension": ".py",
   "mimetype": "text/x-python",
   "name": "python",
   "nbconvert_exporter": "python",
   "pygments_lexer": "ipython3",
   "version": "3.8.5"
  },
  "interpreter": {
   "hash": "dca0ade3e726a953b501b15e8e990130d2b7799f14cfd9f4271676035ebe5511"
  }
 },
 "nbformat": 4,
 "nbformat_minor": 4
}