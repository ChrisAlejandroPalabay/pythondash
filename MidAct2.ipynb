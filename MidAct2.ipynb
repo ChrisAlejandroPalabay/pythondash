{
 "metadata": {
  "language_info": {
   "codemirror_mode": {
    "name": "ipython",
    "version": 3
   },
   "file_extension": ".py",
   "mimetype": "text/x-python",
   "name": "python",
   "nbconvert_exporter": "python",
   "pygments_lexer": "ipython3",
   "version": "3.8.5-final"
  },
  "orig_nbformat": 2,
  "kernelspec": {
   "name": "python3",
   "display_name": "Python 3.8.5 64-bit ('base': conda)",
   "metadata": {
    "interpreter": {
     "hash": "dca0ade3e726a953b501b15e8e990130d2b7799f14cfd9f4271676035ebe5511"
    }
   }
  }
 },
 "nbformat": 4,
 "nbformat_minor": 2,
 "cells": [
  {
   "cell_type": "code",
   "execution_count": 2,
   "metadata": {},
   "outputs": [
    {
     "output_type": "execute_result",
     "data": {
      "text/plain": [
       "          ID  GENDER OWN CAR OWN REALTY  NO. OF CHILDREN  ANNUAL INCOME  \\\n",
       "0    5008804    MALE     YES        YES                2         427500   \n",
       "1    5008805    MALE     YES        YES                2         427500   \n",
       "2    5008806    MALE     YES        YES                2         112500   \n",
       "3    5008808  FEMALE      NO        YES                0         270000   \n",
       "4    5008809  FEMALE      NO        YES                0         270000   \n",
       "..       ...     ...     ...        ...              ...            ...   \n",
       "595  5009469  FEMALE      NO         NO                0         157500   \n",
       "596  5009470  FEMALE      NO         NO                0         157500   \n",
       "597  5009471  FEMALE      NO         NO                0         157500   \n",
       "598  5009472  FEMALE      NO         NO                0         157500   \n",
       "599  6153617  FEMALE      NO         NO                0         157500   \n",
       "\n",
       "              INCOME_TYPE             EDUCATIONAL DEGREE  \\\n",
       "0                 Working               Higher education   \n",
       "1                 Working               Higher education   \n",
       "2                 Working  Secondary / secondary special   \n",
       "3    Commercial associate  Secondary / secondary special   \n",
       "4    Commercial associate  Secondary / secondary special   \n",
       "..                    ...                            ...   \n",
       "595               Working  Secondary / secondary special   \n",
       "596               Working  Secondary / secondary special   \n",
       "597               Working  Secondary / secondary special   \n",
       "598               Working  Secondary / secondary special   \n",
       "599               Working  Secondary / secondary special   \n",
       "\n",
       "             CIVIL STATUS       HOUSING_TYPE  DAYS_EMPLOYED OCCUPATION_TYPE  \\\n",
       "0          Civil marriage   Rented apartment          -4542              NA   \n",
       "1          Civil marriage   Rented apartment          -4542              NA   \n",
       "2                 Married  House / apartment          -1134  Security staff   \n",
       "3    Single / not married  House / apartment          -3051     Sales staff   \n",
       "4    Single / not married  House / apartment          -3051     Sales staff   \n",
       "..                    ...                ...            ...             ...   \n",
       "595               Married  House / apartment          -9870              NA   \n",
       "596               Married  House / apartment          -9870              NA   \n",
       "597               Married  House / apartment          -9870              NA   \n",
       "598               Married  House / apartment          -9870              NA   \n",
       "599               Married  House / apartment          -9870              NA   \n",
       "\n",
       "     CNT_FAM_MEMBERS BUY?  \n",
       "0                  2  YES  \n",
       "1                  2   NO  \n",
       "2                  2   NO  \n",
       "3                  1   NO  \n",
       "4                  1   NO  \n",
       "..               ...  ...  \n",
       "595                2   NO  \n",
       "596                2   NO  \n",
       "597                2  YES  \n",
       "598                2   NO  \n",
       "599                2  YES  \n",
       "\n",
       "[600 rows x 14 columns]"
      ],
      "text/html": "<div>\n<style scoped>\n    .dataframe tbody tr th:only-of-type {\n        vertical-align: middle;\n    }\n\n    .dataframe tbody tr th {\n        vertical-align: top;\n    }\n\n    .dataframe thead th {\n        text-align: right;\n    }\n</style>\n<table border=\"1\" class=\"dataframe\">\n  <thead>\n    <tr style=\"text-align: right;\">\n      <th></th>\n      <th>ID</th>\n      <th>GENDER</th>\n      <th>OWN CAR</th>\n      <th>OWN REALTY</th>\n      <th>NO. OF CHILDREN</th>\n      <th>ANNUAL INCOME</th>\n      <th>INCOME_TYPE</th>\n      <th>EDUCATIONAL DEGREE</th>\n      <th>CIVIL STATUS</th>\n      <th>HOUSING_TYPE</th>\n      <th>DAYS_EMPLOYED</th>\n      <th>OCCUPATION_TYPE</th>\n      <th>CNT_FAM_MEMBERS</th>\n      <th>BUY?</th>\n    </tr>\n  </thead>\n  <tbody>\n    <tr>\n      <th>0</th>\n      <td>5008804</td>\n      <td>MALE</td>\n      <td>YES</td>\n      <td>YES</td>\n      <td>2</td>\n      <td>427500</td>\n      <td>Working</td>\n      <td>Higher education</td>\n      <td>Civil marriage</td>\n      <td>Rented apartment</td>\n      <td>-4542</td>\n      <td>NA</td>\n      <td>2</td>\n      <td>YES</td>\n    </tr>\n    <tr>\n      <th>1</th>\n      <td>5008805</td>\n      <td>MALE</td>\n      <td>YES</td>\n      <td>YES</td>\n      <td>2</td>\n      <td>427500</td>\n      <td>Working</td>\n      <td>Higher education</td>\n      <td>Civil marriage</td>\n      <td>Rented apartment</td>\n      <td>-4542</td>\n      <td>NA</td>\n      <td>2</td>\n      <td>NO</td>\n    </tr>\n    <tr>\n      <th>2</th>\n      <td>5008806</td>\n      <td>MALE</td>\n      <td>YES</td>\n      <td>YES</td>\n      <td>2</td>\n      <td>112500</td>\n      <td>Working</td>\n      <td>Secondary / secondary special</td>\n      <td>Married</td>\n      <td>House / apartment</td>\n      <td>-1134</td>\n      <td>Security staff</td>\n      <td>2</td>\n      <td>NO</td>\n    </tr>\n    <tr>\n      <th>3</th>\n      <td>5008808</td>\n      <td>FEMALE</td>\n      <td>NO</td>\n      <td>YES</td>\n      <td>0</td>\n      <td>270000</td>\n      <td>Commercial associate</td>\n      <td>Secondary / secondary special</td>\n      <td>Single / not married</td>\n      <td>House / apartment</td>\n      <td>-3051</td>\n      <td>Sales staff</td>\n      <td>1</td>\n      <td>NO</td>\n    </tr>\n    <tr>\n      <th>4</th>\n      <td>5008809</td>\n      <td>FEMALE</td>\n      <td>NO</td>\n      <td>YES</td>\n      <td>0</td>\n      <td>270000</td>\n      <td>Commercial associate</td>\n      <td>Secondary / secondary special</td>\n      <td>Single / not married</td>\n      <td>House / apartment</td>\n      <td>-3051</td>\n      <td>Sales staff</td>\n      <td>1</td>\n      <td>NO</td>\n    </tr>\n    <tr>\n      <th>...</th>\n      <td>...</td>\n      <td>...</td>\n      <td>...</td>\n      <td>...</td>\n      <td>...</td>\n      <td>...</td>\n      <td>...</td>\n      <td>...</td>\n      <td>...</td>\n      <td>...</td>\n      <td>...</td>\n      <td>...</td>\n      <td>...</td>\n      <td>...</td>\n    </tr>\n    <tr>\n      <th>595</th>\n      <td>5009469</td>\n      <td>FEMALE</td>\n      <td>NO</td>\n      <td>NO</td>\n      <td>0</td>\n      <td>157500</td>\n      <td>Working</td>\n      <td>Secondary / secondary special</td>\n      <td>Married</td>\n      <td>House / apartment</td>\n      <td>-9870</td>\n      <td>NA</td>\n      <td>2</td>\n      <td>NO</td>\n    </tr>\n    <tr>\n      <th>596</th>\n      <td>5009470</td>\n      <td>FEMALE</td>\n      <td>NO</td>\n      <td>NO</td>\n      <td>0</td>\n      <td>157500</td>\n      <td>Working</td>\n      <td>Secondary / secondary special</td>\n      <td>Married</td>\n      <td>House / apartment</td>\n      <td>-9870</td>\n      <td>NA</td>\n      <td>2</td>\n      <td>NO</td>\n    </tr>\n    <tr>\n      <th>597</th>\n      <td>5009471</td>\n      <td>FEMALE</td>\n      <td>NO</td>\n      <td>NO</td>\n      <td>0</td>\n      <td>157500</td>\n      <td>Working</td>\n      <td>Secondary / secondary special</td>\n      <td>Married</td>\n      <td>House / apartment</td>\n      <td>-9870</td>\n      <td>NA</td>\n      <td>2</td>\n      <td>YES</td>\n    </tr>\n    <tr>\n      <th>598</th>\n      <td>5009472</td>\n      <td>FEMALE</td>\n      <td>NO</td>\n      <td>NO</td>\n      <td>0</td>\n      <td>157500</td>\n      <td>Working</td>\n      <td>Secondary / secondary special</td>\n      <td>Married</td>\n      <td>House / apartment</td>\n      <td>-9870</td>\n      <td>NA</td>\n      <td>2</td>\n      <td>NO</td>\n    </tr>\n    <tr>\n      <th>599</th>\n      <td>6153617</td>\n      <td>FEMALE</td>\n      <td>NO</td>\n      <td>NO</td>\n      <td>0</td>\n      <td>157500</td>\n      <td>Working</td>\n      <td>Secondary / secondary special</td>\n      <td>Married</td>\n      <td>House / apartment</td>\n      <td>-9870</td>\n      <td>NA</td>\n      <td>2</td>\n      <td>YES</td>\n    </tr>\n  </tbody>\n</table>\n<p>600 rows × 14 columns</p>\n</div>"
     },
     "metadata": {},
     "execution_count": 2
    }
   ],
   "source": [
    "import pandas as pd \n",
    "\n",
    "df = pd.read_csv('/Users/jakirice/Desktop/BUY_INSURANCE.csv')\n",
    "df['OCCUPATION_TYPE'].fillna(\"NA\", inplace = True)\n",
    "df"
   ]
  },
  {
   "cell_type": "code",
   "execution_count": 11,
   "metadata": {},
   "outputs": [
    {
     "output_type": "execute_result",
     "data": {
      "text/plain": [
       "          ID  GENDER OWN CAR OWN REALTY  NO. OF CHILDREN  ANNUAL INCOME  \\\n",
       "0    5008804    MALE     YES        YES                2         427500   \n",
       "1    5008805    MALE     YES        YES                2         427500   \n",
       "2    5008806    MALE     YES        YES                2         112500   \n",
       "3    5008808  FEMALE      NO        YES                0         270000   \n",
       "4    5008809  FEMALE      NO        YES                0         270000   \n",
       "..       ...     ...     ...        ...              ...            ...   \n",
       "595  5009469  FEMALE      NO         NO                0         157500   \n",
       "596  5009470  FEMALE      NO         NO                0         157500   \n",
       "597  5009471  FEMALE      NO         NO                0         157500   \n",
       "598  5009472  FEMALE      NO         NO                0         157500   \n",
       "599  6153617  FEMALE      NO         NO                0         157500   \n",
       "\n",
       "              INCOME_TYPE             EDUCATIONAL DEGREE CIVIL STATUS  \\\n",
       "0                 Working               Higher education      Married   \n",
       "1                 Working               Higher education      Married   \n",
       "2                 Working  Secondary / secondary special      Married   \n",
       "3    Commercial associate  Secondary / secondary special       Single   \n",
       "4    Commercial associate  Secondary / secondary special       Single   \n",
       "..                    ...                            ...          ...   \n",
       "595               Working  Secondary / secondary special      Married   \n",
       "596               Working  Secondary / secondary special      Married   \n",
       "597               Working  Secondary / secondary special      Married   \n",
       "598               Working  Secondary / secondary special      Married   \n",
       "599               Working  Secondary / secondary special      Married   \n",
       "\n",
       "          HOUSING_TYPE  DAYS_EMPLOYED OCCUPATION_TYPE  CNT_FAM_MEMBERS BUY?  \n",
       "0     Rented apartment          -4542             NaN                2  YES  \n",
       "1     Rented apartment          -4542             NaN                2   NO  \n",
       "2    House / apartment          -1134  Security staff                2   NO  \n",
       "3    House / apartment          -3051     Sales staff                1   NO  \n",
       "4    House / apartment          -3051     Sales staff                1   NO  \n",
       "..                 ...            ...             ...              ...  ...  \n",
       "595  House / apartment          -9870             NaN                2   NO  \n",
       "596  House / apartment          -9870             NaN                2   NO  \n",
       "597  House / apartment          -9870             NaN                2  YES  \n",
       "598  House / apartment          -9870             NaN                2   NO  \n",
       "599  House / apartment          -9870             NaN                2  YES  \n",
       "\n",
       "[600 rows x 14 columns]"
      ],
      "text/html": "<div>\n<style scoped>\n    .dataframe tbody tr th:only-of-type {\n        vertical-align: middle;\n    }\n\n    .dataframe tbody tr th {\n        vertical-align: top;\n    }\n\n    .dataframe thead th {\n        text-align: right;\n    }\n</style>\n<table border=\"1\" class=\"dataframe\">\n  <thead>\n    <tr style=\"text-align: right;\">\n      <th></th>\n      <th>ID</th>\n      <th>GENDER</th>\n      <th>OWN CAR</th>\n      <th>OWN REALTY</th>\n      <th>NO. OF CHILDREN</th>\n      <th>ANNUAL INCOME</th>\n      <th>INCOME_TYPE</th>\n      <th>EDUCATIONAL DEGREE</th>\n      <th>CIVIL STATUS</th>\n      <th>HOUSING_TYPE</th>\n      <th>DAYS_EMPLOYED</th>\n      <th>OCCUPATION_TYPE</th>\n      <th>CNT_FAM_MEMBERS</th>\n      <th>BUY?</th>\n    </tr>\n  </thead>\n  <tbody>\n    <tr>\n      <th>0</th>\n      <td>5008804</td>\n      <td>MALE</td>\n      <td>YES</td>\n      <td>YES</td>\n      <td>2</td>\n      <td>427500</td>\n      <td>Working</td>\n      <td>Higher education</td>\n      <td>Married</td>\n      <td>Rented apartment</td>\n      <td>-4542</td>\n      <td>NaN</td>\n      <td>2</td>\n      <td>YES</td>\n    </tr>\n    <tr>\n      <th>1</th>\n      <td>5008805</td>\n      <td>MALE</td>\n      <td>YES</td>\n      <td>YES</td>\n      <td>2</td>\n      <td>427500</td>\n      <td>Working</td>\n      <td>Higher education</td>\n      <td>Married</td>\n      <td>Rented apartment</td>\n      <td>-4542</td>\n      <td>NaN</td>\n      <td>2</td>\n      <td>NO</td>\n    </tr>\n    <tr>\n      <th>2</th>\n      <td>5008806</td>\n      <td>MALE</td>\n      <td>YES</td>\n      <td>YES</td>\n      <td>2</td>\n      <td>112500</td>\n      <td>Working</td>\n      <td>Secondary / secondary special</td>\n      <td>Married</td>\n      <td>House / apartment</td>\n      <td>-1134</td>\n      <td>Security staff</td>\n      <td>2</td>\n      <td>NO</td>\n    </tr>\n    <tr>\n      <th>3</th>\n      <td>5008808</td>\n      <td>FEMALE</td>\n      <td>NO</td>\n      <td>YES</td>\n      <td>0</td>\n      <td>270000</td>\n      <td>Commercial associate</td>\n      <td>Secondary / secondary special</td>\n      <td>Single</td>\n      <td>House / apartment</td>\n      <td>-3051</td>\n      <td>Sales staff</td>\n      <td>1</td>\n      <td>NO</td>\n    </tr>\n    <tr>\n      <th>4</th>\n      <td>5008809</td>\n      <td>FEMALE</td>\n      <td>NO</td>\n      <td>YES</td>\n      <td>0</td>\n      <td>270000</td>\n      <td>Commercial associate</td>\n      <td>Secondary / secondary special</td>\n      <td>Single</td>\n      <td>House / apartment</td>\n      <td>-3051</td>\n      <td>Sales staff</td>\n      <td>1</td>\n      <td>NO</td>\n    </tr>\n    <tr>\n      <th>...</th>\n      <td>...</td>\n      <td>...</td>\n      <td>...</td>\n      <td>...</td>\n      <td>...</td>\n      <td>...</td>\n      <td>...</td>\n      <td>...</td>\n      <td>...</td>\n      <td>...</td>\n      <td>...</td>\n      <td>...</td>\n      <td>...</td>\n      <td>...</td>\n    </tr>\n    <tr>\n      <th>595</th>\n      <td>5009469</td>\n      <td>FEMALE</td>\n      <td>NO</td>\n      <td>NO</td>\n      <td>0</td>\n      <td>157500</td>\n      <td>Working</td>\n      <td>Secondary / secondary special</td>\n      <td>Married</td>\n      <td>House / apartment</td>\n      <td>-9870</td>\n      <td>NaN</td>\n      <td>2</td>\n      <td>NO</td>\n    </tr>\n    <tr>\n      <th>596</th>\n      <td>5009470</td>\n      <td>FEMALE</td>\n      <td>NO</td>\n      <td>NO</td>\n      <td>0</td>\n      <td>157500</td>\n      <td>Working</td>\n      <td>Secondary / secondary special</td>\n      <td>Married</td>\n      <td>House / apartment</td>\n      <td>-9870</td>\n      <td>NaN</td>\n      <td>2</td>\n      <td>NO</td>\n    </tr>\n    <tr>\n      <th>597</th>\n      <td>5009471</td>\n      <td>FEMALE</td>\n      <td>NO</td>\n      <td>NO</td>\n      <td>0</td>\n      <td>157500</td>\n      <td>Working</td>\n      <td>Secondary / secondary special</td>\n      <td>Married</td>\n      <td>House / apartment</td>\n      <td>-9870</td>\n      <td>NaN</td>\n      <td>2</td>\n      <td>YES</td>\n    </tr>\n    <tr>\n      <th>598</th>\n      <td>5009472</td>\n      <td>FEMALE</td>\n      <td>NO</td>\n      <td>NO</td>\n      <td>0</td>\n      <td>157500</td>\n      <td>Working</td>\n      <td>Secondary / secondary special</td>\n      <td>Married</td>\n      <td>House / apartment</td>\n      <td>-9870</td>\n      <td>NaN</td>\n      <td>2</td>\n      <td>NO</td>\n    </tr>\n    <tr>\n      <th>599</th>\n      <td>6153617</td>\n      <td>FEMALE</td>\n      <td>NO</td>\n      <td>NO</td>\n      <td>0</td>\n      <td>157500</td>\n      <td>Working</td>\n      <td>Secondary / secondary special</td>\n      <td>Married</td>\n      <td>House / apartment</td>\n      <td>-9870</td>\n      <td>NaN</td>\n      <td>2</td>\n      <td>YES</td>\n    </tr>\n  </tbody>\n</table>\n<p>600 rows × 14 columns</p>\n</div>"
     },
     "metadata": {},
     "execution_count": 11
    }
   ],
   "source": [
    "import pandas as pd \n",
    "\n",
    "df = pd.read_csv('/Users/jakirice/Desktop/BUY_INSURANCE.csv')\n",
    "df['CIVIL STATUS'] = df['CIVIL STATUS'].replace(['Single / not married','Civil marriage'],['Single','Married'])\n",
    "df"
   ]
  },
  {
   "cell_type": "code",
   "execution_count": 25,
   "metadata": {},
   "outputs": [
    {
     "output_type": "execute_result",
     "data": {
      "text/plain": [
       "          ID  GENDER OWN CAR OWN REALTY  NO. OF CHILDREN  ANNUAL INCOME  \\\n",
       "300  5009134    MALE      NO        YES                0         382500   \n",
       "447  5009302  FEMALE      NO         NO                0         112500   \n",
       "306  5009140    MALE      NO        YES                0         382500   \n",
       "309  5009143    MALE     YES         NO                0         225000   \n",
       "310  5009144    MALE     YES         NO                0         225000   \n",
       "..       ...     ...     ...        ...              ...            ...   \n",
       "535  5009402    MALE      NO         NO                0         202500   \n",
       "487  5009354    MALE      NO         NO                0         180000   \n",
       "488  6153582    MALE      NO         NO                0         180000   \n",
       "489  6153584    MALE      NO         NO                0         180000   \n",
       "486  5009349    MALE      NO         NO                0         180000   \n",
       "\n",
       "              INCOME_TYPE             EDUCATIONAL DEGREE    CIVIL STATUS  \\\n",
       "300             Pensioner  Secondary / secondary special           Widow   \n",
       "447             Pensioner  Secondary / secondary special           Widow   \n",
       "306             Pensioner  Secondary / secondary special           Widow   \n",
       "309             Pensioner  Secondary / secondary special  Civil marriage   \n",
       "310             Pensioner  Secondary / secondary special  Civil marriage   \n",
       "..                    ...                            ...             ...   \n",
       "535  Commercial associate  Secondary / secondary special         Married   \n",
       "487  Commercial associate                Lower secondary         Married   \n",
       "488  Commercial associate                Lower secondary         Married   \n",
       "489  Commercial associate                Lower secondary         Married   \n",
       "486  Commercial associate                Lower secondary         Married   \n",
       "\n",
       "          HOUSING_TYPE  YEARS_EMPLOYED OCCUPATION_TYPE  CNT_FAM_MEMBERS BUY?  \n",
       "300  House / apartment     1000.665753             NaN                1  YES  \n",
       "447  House / apartment     1000.665753             NaN                1  YES  \n",
       "306  House / apartment     1000.665753             NaN                1  YES  \n",
       "309  House / apartment     1000.665753             NaN                2   NO  \n",
       "310  House / apartment     1000.665753             NaN                2   NO  \n",
       "..                 ...             ...             ...              ...  ...  \n",
       "535  House / apartment        0.690411  Security staff                2   NO  \n",
       "487  House / apartment        0.356164         Drivers                2  YES  \n",
       "488  House / apartment        0.356164         Drivers                2   NO  \n",
       "489  House / apartment        0.356164         Drivers                2  YES  \n",
       "486  House / apartment        0.356164         Drivers                2   NO  \n",
       "\n",
       "[600 rows x 14 columns]"
      ],
      "text/html": "<div>\n<style scoped>\n    .dataframe tbody tr th:only-of-type {\n        vertical-align: middle;\n    }\n\n    .dataframe tbody tr th {\n        vertical-align: top;\n    }\n\n    .dataframe thead th {\n        text-align: right;\n    }\n</style>\n<table border=\"1\" class=\"dataframe\">\n  <thead>\n    <tr style=\"text-align: right;\">\n      <th></th>\n      <th>ID</th>\n      <th>GENDER</th>\n      <th>OWN CAR</th>\n      <th>OWN REALTY</th>\n      <th>NO. OF CHILDREN</th>\n      <th>ANNUAL INCOME</th>\n      <th>INCOME_TYPE</th>\n      <th>EDUCATIONAL DEGREE</th>\n      <th>CIVIL STATUS</th>\n      <th>HOUSING_TYPE</th>\n      <th>YEARS_EMPLOYED</th>\n      <th>OCCUPATION_TYPE</th>\n      <th>CNT_FAM_MEMBERS</th>\n      <th>BUY?</th>\n    </tr>\n  </thead>\n  <tbody>\n    <tr>\n      <th>300</th>\n      <td>5009134</td>\n      <td>MALE</td>\n      <td>NO</td>\n      <td>YES</td>\n      <td>0</td>\n      <td>382500</td>\n      <td>Pensioner</td>\n      <td>Secondary / secondary special</td>\n      <td>Widow</td>\n      <td>House / apartment</td>\n      <td>1000.665753</td>\n      <td>NaN</td>\n      <td>1</td>\n      <td>YES</td>\n    </tr>\n    <tr>\n      <th>447</th>\n      <td>5009302</td>\n      <td>FEMALE</td>\n      <td>NO</td>\n      <td>NO</td>\n      <td>0</td>\n      <td>112500</td>\n      <td>Pensioner</td>\n      <td>Secondary / secondary special</td>\n      <td>Widow</td>\n      <td>House / apartment</td>\n      <td>1000.665753</td>\n      <td>NaN</td>\n      <td>1</td>\n      <td>YES</td>\n    </tr>\n    <tr>\n      <th>306</th>\n      <td>5009140</td>\n      <td>MALE</td>\n      <td>NO</td>\n      <td>YES</td>\n      <td>0</td>\n      <td>382500</td>\n      <td>Pensioner</td>\n      <td>Secondary / secondary special</td>\n      <td>Widow</td>\n      <td>House / apartment</td>\n      <td>1000.665753</td>\n      <td>NaN</td>\n      <td>1</td>\n      <td>YES</td>\n    </tr>\n    <tr>\n      <th>309</th>\n      <td>5009143</td>\n      <td>MALE</td>\n      <td>YES</td>\n      <td>NO</td>\n      <td>0</td>\n      <td>225000</td>\n      <td>Pensioner</td>\n      <td>Secondary / secondary special</td>\n      <td>Civil marriage</td>\n      <td>House / apartment</td>\n      <td>1000.665753</td>\n      <td>NaN</td>\n      <td>2</td>\n      <td>NO</td>\n    </tr>\n    <tr>\n      <th>310</th>\n      <td>5009144</td>\n      <td>MALE</td>\n      <td>YES</td>\n      <td>NO</td>\n      <td>0</td>\n      <td>225000</td>\n      <td>Pensioner</td>\n      <td>Secondary / secondary special</td>\n      <td>Civil marriage</td>\n      <td>House / apartment</td>\n      <td>1000.665753</td>\n      <td>NaN</td>\n      <td>2</td>\n      <td>NO</td>\n    </tr>\n    <tr>\n      <th>...</th>\n      <td>...</td>\n      <td>...</td>\n      <td>...</td>\n      <td>...</td>\n      <td>...</td>\n      <td>...</td>\n      <td>...</td>\n      <td>...</td>\n      <td>...</td>\n      <td>...</td>\n      <td>...</td>\n      <td>...</td>\n      <td>...</td>\n      <td>...</td>\n    </tr>\n    <tr>\n      <th>535</th>\n      <td>5009402</td>\n      <td>MALE</td>\n      <td>NO</td>\n      <td>NO</td>\n      <td>0</td>\n      <td>202500</td>\n      <td>Commercial associate</td>\n      <td>Secondary / secondary special</td>\n      <td>Married</td>\n      <td>House / apartment</td>\n      <td>0.690411</td>\n      <td>Security staff</td>\n      <td>2</td>\n      <td>NO</td>\n    </tr>\n    <tr>\n      <th>487</th>\n      <td>5009354</td>\n      <td>MALE</td>\n      <td>NO</td>\n      <td>NO</td>\n      <td>0</td>\n      <td>180000</td>\n      <td>Commercial associate</td>\n      <td>Lower secondary</td>\n      <td>Married</td>\n      <td>House / apartment</td>\n      <td>0.356164</td>\n      <td>Drivers</td>\n      <td>2</td>\n      <td>YES</td>\n    </tr>\n    <tr>\n      <th>488</th>\n      <td>6153582</td>\n      <td>MALE</td>\n      <td>NO</td>\n      <td>NO</td>\n      <td>0</td>\n      <td>180000</td>\n      <td>Commercial associate</td>\n      <td>Lower secondary</td>\n      <td>Married</td>\n      <td>House / apartment</td>\n      <td>0.356164</td>\n      <td>Drivers</td>\n      <td>2</td>\n      <td>NO</td>\n    </tr>\n    <tr>\n      <th>489</th>\n      <td>6153584</td>\n      <td>MALE</td>\n      <td>NO</td>\n      <td>NO</td>\n      <td>0</td>\n      <td>180000</td>\n      <td>Commercial associate</td>\n      <td>Lower secondary</td>\n      <td>Married</td>\n      <td>House / apartment</td>\n      <td>0.356164</td>\n      <td>Drivers</td>\n      <td>2</td>\n      <td>YES</td>\n    </tr>\n    <tr>\n      <th>486</th>\n      <td>5009349</td>\n      <td>MALE</td>\n      <td>NO</td>\n      <td>NO</td>\n      <td>0</td>\n      <td>180000</td>\n      <td>Commercial associate</td>\n      <td>Lower secondary</td>\n      <td>Married</td>\n      <td>House / apartment</td>\n      <td>0.356164</td>\n      <td>Drivers</td>\n      <td>2</td>\n      <td>NO</td>\n    </tr>\n  </tbody>\n</table>\n<p>600 rows × 14 columns</p>\n</div>"
     },
     "metadata": {},
     "execution_count": 25
    }
   ],
   "source": [
    "import pandas as pd \n",
    "\n",
    "df = pd.read_csv('/Users/jakirice/Desktop/BUY_INSURANCE.csv')\n",
    "df['DAYS_EMPLOYED'] = df['DAYS_EMPLOYED'].apply(lambda x: x * -1 if x < 0 else x)\n",
    "df['DAYS_EMPLOYED'] = df['DAYS_EMPLOYED'].apply(lambda x: x / 365)\n",
    "df.rename(columns={'DAYS_EMPLOYED': 'YEARS_EMPLOYED'},inplace = True)\n",
    "df.sort_values(by=['YEARS_EMPLOYED'], ascending=False)\n",
    "\n"
   ]
  },
  {
   "cell_type": "code",
   "execution_count": 23,
   "metadata": {},
   "outputs": [
    {
     "output_type": "stream",
     "name": "stdout",
     "text": [
      "Range is:  1000.3095890410958\nMax value is:  1000.6657534246575\nMin value is:  0.3561643835616438\nAverage value is:  118.8998630136987\n"
     ]
    }
   ],
   "source": [
    "print('Range is: ',df.YEARS_EMPLOYED.max()-df.YEARS_EMPLOYED.min())\n",
    "print('Max value is: ',df.YEARS_EMPLOYED.max())\n",
    "print('Min value is: ',df.YEARS_EMPLOYED.min())\n",
    "print(\"Average value is: \",df.YEARS_EMPLOYED.mean())"
   ]
  },
  {
   "cell_type": "code",
   "execution_count": 34,
   "metadata": {},
   "outputs": [
    {
     "output_type": "execute_result",
     "data": {
      "text/plain": [
       "NO     390\n",
       "YES    210\n",
       "Name: OWN CAR, dtype: int64"
      ]
     },
     "metadata": {},
     "execution_count": 34
    }
   ],
   "source": [
    "df['OWN CAR'].value_counts()"
   ]
  },
  {
   "cell_type": "code",
   "execution_count": 47,
   "metadata": {},
   "outputs": [
    {
     "output_type": "stream",
     "name": "stdout",
     "text": [
      "Clients that owns a car: 210\nClients that owns realty: 275\n"
     ]
    }
   ],
   "source": [
    "car = df['OWN CAR']\n",
    "realty = df['OWN REALTY']\n",
    "realtyowner = realty[realty == 'YES'].count()\n",
    "carowner = car[car == 'YES'].count()\n",
    "print('Clients that owns a car: {}'.format(carowner))\n",
    "print('Clients that owns realty: {}'.format(realtyowner))"
   ]
  },
  {
   "cell_type": "code",
   "execution_count": 50,
   "metadata": {},
   "outputs": [
    {
     "output_type": "execute_result",
     "data": {
      "text/plain": [
       "          ID  GENDER OWN CAR OWN REALTY  NO. OF CHILDREN  ANNUAL INCOME  \\\n",
       "200  5009018  FEMALE      NO        YES                2         216000   \n",
       "229  5009047  FEMALE      NO        YES                0         148500   \n",
       "547  5009418  FEMALE      NO         NO                0          90000   \n",
       "527  6153591    MALE      NO         NO                0         279000   \n",
       "452  5009307  FEMALE     YES         NO                0         135000   \n",
       "..       ...     ...     ...        ...              ...            ...   \n",
       "345  5009186  FEMALE      NO         NO                0         270000   \n",
       "283  5009110  FEMALE      NO        YES                0         112500   \n",
       "368  5009213  FEMALE      NO         NO                0         270000   \n",
       "85   5008895  FEMALE      NO        YES                0         297000   \n",
       "365  5009210  FEMALE      NO         NO                0         292500   \n",
       "\n",
       "              INCOME_TYPE             EDUCATIONAL DEGREE  \\\n",
       "200         State servant               Higher education   \n",
       "229               Working               Higher education   \n",
       "547               Working  Secondary / secondary special   \n",
       "527         State servant               Higher education   \n",
       "452             Pensioner  Secondary / secondary special   \n",
       "..                    ...                            ...   \n",
       "345               Working               Higher education   \n",
       "283  Commercial associate               Higher education   \n",
       "368               Working               Higher education   \n",
       "85   Commercial associate  Secondary / secondary special   \n",
       "365         State servant  Secondary / secondary special   \n",
       "\n",
       "             CIVIL STATUS       HOUSING_TYPE  YEARS_EMPLOYED  \\\n",
       "200               Married  House / apartment        8.526027   \n",
       "229               Married  House / apartment        2.435616   \n",
       "547  Single / not married  House / apartment        1.271233   \n",
       "527  Single / not married  House / apartment        8.695890   \n",
       "452               Married  House / apartment     1000.665753   \n",
       "..                    ...                ...             ...   \n",
       "345               Married  House / apartment       15.868493   \n",
       "283               Married  House / apartment        0.854795   \n",
       "368               Married  House / apartment        2.356164   \n",
       "85   Single / not married   Rented apartment        8.860274   \n",
       "365               Married  House / apartment       23.791781   \n",
       "\n",
       "           OCCUPATION_TYPE  CNT_FAM_MEMBERS BUY?  \n",
       "200                    NaN                4  YES  \n",
       "229             Core staff                2  YES  \n",
       "547             Core staff                1   NO  \n",
       "527             Core staff                1   NO  \n",
       "452                    NaN                2  YES  \n",
       "..                     ...              ...  ...  \n",
       "345               Managers                2  YES  \n",
       "283  High skill tech staff                2   NO  \n",
       "368            Accountants                2   NO  \n",
       "85                Laborers                1  YES  \n",
       "365            Accountants                2  YES  \n",
       "\n",
       "[100 rows x 14 columns]"
      ],
      "text/html": "<div>\n<style scoped>\n    .dataframe tbody tr th:only-of-type {\n        vertical-align: middle;\n    }\n\n    .dataframe tbody tr th {\n        vertical-align: top;\n    }\n\n    .dataframe thead th {\n        text-align: right;\n    }\n</style>\n<table border=\"1\" class=\"dataframe\">\n  <thead>\n    <tr style=\"text-align: right;\">\n      <th></th>\n      <th>ID</th>\n      <th>GENDER</th>\n      <th>OWN CAR</th>\n      <th>OWN REALTY</th>\n      <th>NO. OF CHILDREN</th>\n      <th>ANNUAL INCOME</th>\n      <th>INCOME_TYPE</th>\n      <th>EDUCATIONAL DEGREE</th>\n      <th>CIVIL STATUS</th>\n      <th>HOUSING_TYPE</th>\n      <th>YEARS_EMPLOYED</th>\n      <th>OCCUPATION_TYPE</th>\n      <th>CNT_FAM_MEMBERS</th>\n      <th>BUY?</th>\n    </tr>\n  </thead>\n  <tbody>\n    <tr>\n      <th>200</th>\n      <td>5009018</td>\n      <td>FEMALE</td>\n      <td>NO</td>\n      <td>YES</td>\n      <td>2</td>\n      <td>216000</td>\n      <td>State servant</td>\n      <td>Higher education</td>\n      <td>Married</td>\n      <td>House / apartment</td>\n      <td>8.526027</td>\n      <td>NaN</td>\n      <td>4</td>\n      <td>YES</td>\n    </tr>\n    <tr>\n      <th>229</th>\n      <td>5009047</td>\n      <td>FEMALE</td>\n      <td>NO</td>\n      <td>YES</td>\n      <td>0</td>\n      <td>148500</td>\n      <td>Working</td>\n      <td>Higher education</td>\n      <td>Married</td>\n      <td>House / apartment</td>\n      <td>2.435616</td>\n      <td>Core staff</td>\n      <td>2</td>\n      <td>YES</td>\n    </tr>\n    <tr>\n      <th>547</th>\n      <td>5009418</td>\n      <td>FEMALE</td>\n      <td>NO</td>\n      <td>NO</td>\n      <td>0</td>\n      <td>90000</td>\n      <td>Working</td>\n      <td>Secondary / secondary special</td>\n      <td>Single / not married</td>\n      <td>House / apartment</td>\n      <td>1.271233</td>\n      <td>Core staff</td>\n      <td>1</td>\n      <td>NO</td>\n    </tr>\n    <tr>\n      <th>527</th>\n      <td>6153591</td>\n      <td>MALE</td>\n      <td>NO</td>\n      <td>NO</td>\n      <td>0</td>\n      <td>279000</td>\n      <td>State servant</td>\n      <td>Higher education</td>\n      <td>Single / not married</td>\n      <td>House / apartment</td>\n      <td>8.695890</td>\n      <td>Core staff</td>\n      <td>1</td>\n      <td>NO</td>\n    </tr>\n    <tr>\n      <th>452</th>\n      <td>5009307</td>\n      <td>FEMALE</td>\n      <td>YES</td>\n      <td>NO</td>\n      <td>0</td>\n      <td>135000</td>\n      <td>Pensioner</td>\n      <td>Secondary / secondary special</td>\n      <td>Married</td>\n      <td>House / apartment</td>\n      <td>1000.665753</td>\n      <td>NaN</td>\n      <td>2</td>\n      <td>YES</td>\n    </tr>\n    <tr>\n      <th>...</th>\n      <td>...</td>\n      <td>...</td>\n      <td>...</td>\n      <td>...</td>\n      <td>...</td>\n      <td>...</td>\n      <td>...</td>\n      <td>...</td>\n      <td>...</td>\n      <td>...</td>\n      <td>...</td>\n      <td>...</td>\n      <td>...</td>\n      <td>...</td>\n    </tr>\n    <tr>\n      <th>345</th>\n      <td>5009186</td>\n      <td>FEMALE</td>\n      <td>NO</td>\n      <td>NO</td>\n      <td>0</td>\n      <td>270000</td>\n      <td>Working</td>\n      <td>Higher education</td>\n      <td>Married</td>\n      <td>House / apartment</td>\n      <td>15.868493</td>\n      <td>Managers</td>\n      <td>2</td>\n      <td>YES</td>\n    </tr>\n    <tr>\n      <th>283</th>\n      <td>5009110</td>\n      <td>FEMALE</td>\n      <td>NO</td>\n      <td>YES</td>\n      <td>0</td>\n      <td>112500</td>\n      <td>Commercial associate</td>\n      <td>Higher education</td>\n      <td>Married</td>\n      <td>House / apartment</td>\n      <td>0.854795</td>\n      <td>High skill tech staff</td>\n      <td>2</td>\n      <td>NO</td>\n    </tr>\n    <tr>\n      <th>368</th>\n      <td>5009213</td>\n      <td>FEMALE</td>\n      <td>NO</td>\n      <td>NO</td>\n      <td>0</td>\n      <td>270000</td>\n      <td>Working</td>\n      <td>Higher education</td>\n      <td>Married</td>\n      <td>House / apartment</td>\n      <td>2.356164</td>\n      <td>Accountants</td>\n      <td>2</td>\n      <td>NO</td>\n    </tr>\n    <tr>\n      <th>85</th>\n      <td>5008895</td>\n      <td>FEMALE</td>\n      <td>NO</td>\n      <td>YES</td>\n      <td>0</td>\n      <td>297000</td>\n      <td>Commercial associate</td>\n      <td>Secondary / secondary special</td>\n      <td>Single / not married</td>\n      <td>Rented apartment</td>\n      <td>8.860274</td>\n      <td>Laborers</td>\n      <td>1</td>\n      <td>YES</td>\n    </tr>\n    <tr>\n      <th>365</th>\n      <td>5009210</td>\n      <td>FEMALE</td>\n      <td>NO</td>\n      <td>NO</td>\n      <td>0</td>\n      <td>292500</td>\n      <td>State servant</td>\n      <td>Secondary / secondary special</td>\n      <td>Married</td>\n      <td>House / apartment</td>\n      <td>23.791781</td>\n      <td>Accountants</td>\n      <td>2</td>\n      <td>YES</td>\n    </tr>\n  </tbody>\n</table>\n<p>100 rows × 14 columns</p>\n</div>"
     },
     "metadata": {},
     "execution_count": 50
    }
   ],
   "source": [
    "df.sample(100,replace=False)"
   ]
  },
  {
   "cell_type": "code",
   "execution_count": null,
   "metadata": {},
   "outputs": [],
   "source": []
  }
 ]
}