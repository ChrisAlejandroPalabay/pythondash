{
 "metadata": {
  "language_info": {
   "codemirror_mode": {
    "name": "ipython",
    "version": 3
   },
   "file_extension": ".py",
   "mimetype": "text/x-python",
   "name": "python",
   "nbconvert_exporter": "python",
   "pygments_lexer": "ipython3",
   "version": "3.8.5-final"
  },
  "orig_nbformat": 2,
  "kernelspec": {
   "name": "python3",
   "display_name": "Python 3.8.5 64-bit ('base': conda)",
   "metadata": {
    "interpreter": {
     "hash": "dca0ade3e726a953b501b15e8e990130d2b7799f14cfd9f4271676035ebe5511"
    }
   }
  }
 },
 "nbformat": 4,
 "nbformat_minor": 2,
 "cells": [
  {
   "cell_type": "code",
   "execution_count": 1,
   "metadata": {},
   "outputs": [
    {
     "output_type": "execute_result",
     "data": {
      "text/plain": [
       "    Province/State      Country/Region        Lat        Long  1/22/20  \\\n",
       "0              NaN         Afghanistan  33.939110   67.709953        0   \n",
       "1              NaN             Albania  41.153300   20.168300        0   \n",
       "2              NaN             Algeria  28.033900    1.659600        0   \n",
       "3              NaN             Andorra  42.506300    1.521800        0   \n",
       "4              NaN              Angola -11.202700   17.873900        0   \n",
       "..             ...                 ...        ...         ...      ...   \n",
       "269            NaN             Vietnam  14.058324  108.277199        0   \n",
       "270            NaN  West Bank and Gaza  31.952200   35.233200        0   \n",
       "271            NaN               Yemen  15.552727   48.516388        0   \n",
       "272            NaN              Zambia -13.133897   27.849332        0   \n",
       "273            NaN            Zimbabwe -19.015438   29.154857        0   \n",
       "\n",
       "     1/23/20  1/24/20  1/25/20  1/26/20  1/27/20  ...  2/23/21  2/24/21  \\\n",
       "0          0        0        0        0        0  ...    55646    55664   \n",
       "1          0        0        0        0        0  ...   102306   103327   \n",
       "2          0        0        0        0        0  ...   112279   112461   \n",
       "3          0        0        0        0        0  ...    10739    10775   \n",
       "4          0        0        0        0        0  ...    20584    20640   \n",
       "..       ...      ...      ...      ...      ...  ...      ...      ...   \n",
       "269        2        2        2        2        2  ...     2403     2412   \n",
       "270        0        0        0        0        0  ...   176377   177768   \n",
       "271        0        0        0        0        0  ...     2187     2221   \n",
       "272        0        0        0        0        0  ...    75582    76484   \n",
       "273        0        0        0        0        0  ...    35910    35960   \n",
       "\n",
       "     2/25/21  2/26/21  2/27/21  2/28/21  3/1/21  3/2/21  3/3/21  3/4/21  \n",
       "0      55680    55696    55707    55714   55733   55759   55770   55775  \n",
       "1     104313   105229   106215   107167  107931  108823  109674  110521  \n",
       "2     112622   112805   112960   113092  113255  113430  113593  113761  \n",
       "3      10799    10822    10849    10866   10889   10908   10948   10976  \n",
       "4      20695    20759    20782    20807   20854   20882   20923   20981  \n",
       "..       ...      ...      ...      ...     ...     ...     ...     ...  \n",
       "269     2421     2426     2432     2448    2448    2475    2482    2488  \n",
       "270   179293   180848   181909   183612  185336  187309  189326  191203  \n",
       "271     2255     2267     2269     2285    2310    2342    2363    2375  \n",
       "272    77171    77639    78202    78534   79002   79557   80090   80687  \n",
       "273    35994    36044    36058    36089   36115   36148   36179   36223  \n",
       "\n",
       "[274 rows x 412 columns]"
      ],
      "text/html": "<div>\n<style scoped>\n    .dataframe tbody tr th:only-of-type {\n        vertical-align: middle;\n    }\n\n    .dataframe tbody tr th {\n        vertical-align: top;\n    }\n\n    .dataframe thead th {\n        text-align: right;\n    }\n</style>\n<table border=\"1\" class=\"dataframe\">\n  <thead>\n    <tr style=\"text-align: right;\">\n      <th></th>\n      <th>Province/State</th>\n      <th>Country/Region</th>\n      <th>Lat</th>\n      <th>Long</th>\n      <th>1/22/20</th>\n      <th>1/23/20</th>\n      <th>1/24/20</th>\n      <th>1/25/20</th>\n      <th>1/26/20</th>\n      <th>1/27/20</th>\n      <th>...</th>\n      <th>2/23/21</th>\n      <th>2/24/21</th>\n      <th>2/25/21</th>\n      <th>2/26/21</th>\n      <th>2/27/21</th>\n      <th>2/28/21</th>\n      <th>3/1/21</th>\n      <th>3/2/21</th>\n      <th>3/3/21</th>\n      <th>3/4/21</th>\n    </tr>\n  </thead>\n  <tbody>\n    <tr>\n      <th>0</th>\n      <td>NaN</td>\n      <td>Afghanistan</td>\n      <td>33.939110</td>\n      <td>67.709953</td>\n      <td>0</td>\n      <td>0</td>\n      <td>0</td>\n      <td>0</td>\n      <td>0</td>\n      <td>0</td>\n      <td>...</td>\n      <td>55646</td>\n      <td>55664</td>\n      <td>55680</td>\n      <td>55696</td>\n      <td>55707</td>\n      <td>55714</td>\n      <td>55733</td>\n      <td>55759</td>\n      <td>55770</td>\n      <td>55775</td>\n    </tr>\n    <tr>\n      <th>1</th>\n      <td>NaN</td>\n      <td>Albania</td>\n      <td>41.153300</td>\n      <td>20.168300</td>\n      <td>0</td>\n      <td>0</td>\n      <td>0</td>\n      <td>0</td>\n      <td>0</td>\n      <td>0</td>\n      <td>...</td>\n      <td>102306</td>\n      <td>103327</td>\n      <td>104313</td>\n      <td>105229</td>\n      <td>106215</td>\n      <td>107167</td>\n      <td>107931</td>\n      <td>108823</td>\n      <td>109674</td>\n      <td>110521</td>\n    </tr>\n    <tr>\n      <th>2</th>\n      <td>NaN</td>\n      <td>Algeria</td>\n      <td>28.033900</td>\n      <td>1.659600</td>\n      <td>0</td>\n      <td>0</td>\n      <td>0</td>\n      <td>0</td>\n      <td>0</td>\n      <td>0</td>\n      <td>...</td>\n      <td>112279</td>\n      <td>112461</td>\n      <td>112622</td>\n      <td>112805</td>\n      <td>112960</td>\n      <td>113092</td>\n      <td>113255</td>\n      <td>113430</td>\n      <td>113593</td>\n      <td>113761</td>\n    </tr>\n    <tr>\n      <th>3</th>\n      <td>NaN</td>\n      <td>Andorra</td>\n      <td>42.506300</td>\n      <td>1.521800</td>\n      <td>0</td>\n      <td>0</td>\n      <td>0</td>\n      <td>0</td>\n      <td>0</td>\n      <td>0</td>\n      <td>...</td>\n      <td>10739</td>\n      <td>10775</td>\n      <td>10799</td>\n      <td>10822</td>\n      <td>10849</td>\n      <td>10866</td>\n      <td>10889</td>\n      <td>10908</td>\n      <td>10948</td>\n      <td>10976</td>\n    </tr>\n    <tr>\n      <th>4</th>\n      <td>NaN</td>\n      <td>Angola</td>\n      <td>-11.202700</td>\n      <td>17.873900</td>\n      <td>0</td>\n      <td>0</td>\n      <td>0</td>\n      <td>0</td>\n      <td>0</td>\n      <td>0</td>\n      <td>...</td>\n      <td>20584</td>\n      <td>20640</td>\n      <td>20695</td>\n      <td>20759</td>\n      <td>20782</td>\n      <td>20807</td>\n      <td>20854</td>\n      <td>20882</td>\n      <td>20923</td>\n      <td>20981</td>\n    </tr>\n    <tr>\n      <th>...</th>\n      <td>...</td>\n      <td>...</td>\n      <td>...</td>\n      <td>...</td>\n      <td>...</td>\n      <td>...</td>\n      <td>...</td>\n      <td>...</td>\n      <td>...</td>\n      <td>...</td>\n      <td>...</td>\n      <td>...</td>\n      <td>...</td>\n      <td>...</td>\n      <td>...</td>\n      <td>...</td>\n      <td>...</td>\n      <td>...</td>\n      <td>...</td>\n      <td>...</td>\n      <td>...</td>\n    </tr>\n    <tr>\n      <th>269</th>\n      <td>NaN</td>\n      <td>Vietnam</td>\n      <td>14.058324</td>\n      <td>108.277199</td>\n      <td>0</td>\n      <td>2</td>\n      <td>2</td>\n      <td>2</td>\n      <td>2</td>\n      <td>2</td>\n      <td>...</td>\n      <td>2403</td>\n      <td>2412</td>\n      <td>2421</td>\n      <td>2426</td>\n      <td>2432</td>\n      <td>2448</td>\n      <td>2448</td>\n      <td>2475</td>\n      <td>2482</td>\n      <td>2488</td>\n    </tr>\n    <tr>\n      <th>270</th>\n      <td>NaN</td>\n      <td>West Bank and Gaza</td>\n      <td>31.952200</td>\n      <td>35.233200</td>\n      <td>0</td>\n      <td>0</td>\n      <td>0</td>\n      <td>0</td>\n      <td>0</td>\n      <td>0</td>\n      <td>...</td>\n      <td>176377</td>\n      <td>177768</td>\n      <td>179293</td>\n      <td>180848</td>\n      <td>181909</td>\n      <td>183612</td>\n      <td>185336</td>\n      <td>187309</td>\n      <td>189326</td>\n      <td>191203</td>\n    </tr>\n    <tr>\n      <th>271</th>\n      <td>NaN</td>\n      <td>Yemen</td>\n      <td>15.552727</td>\n      <td>48.516388</td>\n      <td>0</td>\n      <td>0</td>\n      <td>0</td>\n      <td>0</td>\n      <td>0</td>\n      <td>0</td>\n      <td>...</td>\n      <td>2187</td>\n      <td>2221</td>\n      <td>2255</td>\n      <td>2267</td>\n      <td>2269</td>\n      <td>2285</td>\n      <td>2310</td>\n      <td>2342</td>\n      <td>2363</td>\n      <td>2375</td>\n    </tr>\n    <tr>\n      <th>272</th>\n      <td>NaN</td>\n      <td>Zambia</td>\n      <td>-13.133897</td>\n      <td>27.849332</td>\n      <td>0</td>\n      <td>0</td>\n      <td>0</td>\n      <td>0</td>\n      <td>0</td>\n      <td>0</td>\n      <td>...</td>\n      <td>75582</td>\n      <td>76484</td>\n      <td>77171</td>\n      <td>77639</td>\n      <td>78202</td>\n      <td>78534</td>\n      <td>79002</td>\n      <td>79557</td>\n      <td>80090</td>\n      <td>80687</td>\n    </tr>\n    <tr>\n      <th>273</th>\n      <td>NaN</td>\n      <td>Zimbabwe</td>\n      <td>-19.015438</td>\n      <td>29.154857</td>\n      <td>0</td>\n      <td>0</td>\n      <td>0</td>\n      <td>0</td>\n      <td>0</td>\n      <td>0</td>\n      <td>...</td>\n      <td>35910</td>\n      <td>35960</td>\n      <td>35994</td>\n      <td>36044</td>\n      <td>36058</td>\n      <td>36089</td>\n      <td>36115</td>\n      <td>36148</td>\n      <td>36179</td>\n      <td>36223</td>\n    </tr>\n  </tbody>\n</table>\n<p>274 rows × 412 columns</p>\n</div>"
     },
     "metadata": {},
     "execution_count": 1
    }
   ],
   "source": [
    "import pandas as pd\n",
    "\n",
    "confirmed = \"https://raw.githubusercontent.com/CSSEGISandData/COVID-19/master/csse_covid_19_data/csse_covid_19_time_series/time_series_covid19_confirmed_global.csv\"\n",
    "deaths = \"https://raw.githubusercontent.com/CSSEGISandData/COVID-19/master/csse_covid_19_data/csse_covid_19_time_series/time_series_covid19_deaths_global.csv\"\n",
    "recovery = \"https://raw.githubusercontent.com/CSSEGISandData/COVID-19/master/csse_covid_19_data/csse_covid_19_time_series/time_series_covid19_recovered_global.csv\"\n",
    "\n",
    "df = pd.read_csv(confirmed)\n",
    "df"
   ]
  },
  {
   "cell_type": "code",
   "execution_count": 3,
   "metadata": {},
   "outputs": [
    {
     "output_type": "execute_result",
     "data": {
      "text/plain": [
       "    Province/State Country/Region        Lat        Long  1/22/20  1/23/20  \\\n",
       "208            NaN    Philippines  12.879721  121.774017        0        0   \n",
       "\n",
       "     1/24/20  1/25/20  1/26/20  1/27/20  ...  2/23/21  2/24/21  2/25/21  \\\n",
       "208        0        0        0        0  ...   564865   566420   568680   \n",
       "\n",
       "     2/26/21  2/27/21  2/28/21  3/1/21  3/2/21  3/3/21  3/4/21  \n",
       "208   571327   574247   576352  578381  580442  582223  584667  \n",
       "\n",
       "[1 rows x 412 columns]"
      ],
      "text/html": "<div>\n<style scoped>\n    .dataframe tbody tr th:only-of-type {\n        vertical-align: middle;\n    }\n\n    .dataframe tbody tr th {\n        vertical-align: top;\n    }\n\n    .dataframe thead th {\n        text-align: right;\n    }\n</style>\n<table border=\"1\" class=\"dataframe\">\n  <thead>\n    <tr style=\"text-align: right;\">\n      <th></th>\n      <th>Province/State</th>\n      <th>Country/Region</th>\n      <th>Lat</th>\n      <th>Long</th>\n      <th>1/22/20</th>\n      <th>1/23/20</th>\n      <th>1/24/20</th>\n      <th>1/25/20</th>\n      <th>1/26/20</th>\n      <th>1/27/20</th>\n      <th>...</th>\n      <th>2/23/21</th>\n      <th>2/24/21</th>\n      <th>2/25/21</th>\n      <th>2/26/21</th>\n      <th>2/27/21</th>\n      <th>2/28/21</th>\n      <th>3/1/21</th>\n      <th>3/2/21</th>\n      <th>3/3/21</th>\n      <th>3/4/21</th>\n    </tr>\n  </thead>\n  <tbody>\n    <tr>\n      <th>208</th>\n      <td>NaN</td>\n      <td>Philippines</td>\n      <td>12.879721</td>\n      <td>121.774017</td>\n      <td>0</td>\n      <td>0</td>\n      <td>0</td>\n      <td>0</td>\n      <td>0</td>\n      <td>0</td>\n      <td>...</td>\n      <td>564865</td>\n      <td>566420</td>\n      <td>568680</td>\n      <td>571327</td>\n      <td>574247</td>\n      <td>576352</td>\n      <td>578381</td>\n      <td>580442</td>\n      <td>582223</td>\n      <td>584667</td>\n    </tr>\n  </tbody>\n</table>\n<p>1 rows × 412 columns</p>\n</div>"
     },
     "metadata": {},
     "execution_count": 3
    }
   ],
   "source": [
    "ph = df.loc[df[\"Country/Region\"] == \"Philippines\"]\n",
    "ph"
   ]
  },
  {
   "cell_type": "code",
   "execution_count": 56,
   "metadata": {},
   "outputs": [],
   "source": [
    "def percent(a, b) : \n",
    "  \n",
    "    result = float(((b - a) * 100) / a) \n",
    "\n",
    "    return result \n"
   ]
  },
  {
   "cell_type": "code",
   "execution_count": 5,
   "metadata": {},
   "outputs": [
    {
     "output_type": "execute_result",
     "data": {
      "text/plain": [
       "    Province/State Country/Region        Lat        Long  1/22/20  1/23/20  \\\n",
       "208            NaN    Philippines  12.879721  121.774017        0        0   \n",
       "\n",
       "     1/24/20  1/25/20  1/26/20  1/27/20  ...  2/23/21  2/24/21  2/25/21  \\\n",
       "208        0        0        0        0  ...   564865   566420   568680   \n",
       "\n",
       "     2/26/21  2/27/21  2/28/21  3/1/21  3/2/21  3/3/21  3/4/21  \n",
       "208   571327   574247   576352  578381  580442  582223  584667  \n",
       "\n",
       "[1 rows x 412 columns]"
      ],
      "text/html": "<div>\n<style scoped>\n    .dataframe tbody tr th:only-of-type {\n        vertical-align: middle;\n    }\n\n    .dataframe tbody tr th {\n        vertical-align: top;\n    }\n\n    .dataframe thead th {\n        text-align: right;\n    }\n</style>\n<table border=\"1\" class=\"dataframe\">\n  <thead>\n    <tr style=\"text-align: right;\">\n      <th></th>\n      <th>Province/State</th>\n      <th>Country/Region</th>\n      <th>Lat</th>\n      <th>Long</th>\n      <th>1/22/20</th>\n      <th>1/23/20</th>\n      <th>1/24/20</th>\n      <th>1/25/20</th>\n      <th>1/26/20</th>\n      <th>1/27/20</th>\n      <th>...</th>\n      <th>2/23/21</th>\n      <th>2/24/21</th>\n      <th>2/25/21</th>\n      <th>2/26/21</th>\n      <th>2/27/21</th>\n      <th>2/28/21</th>\n      <th>3/1/21</th>\n      <th>3/2/21</th>\n      <th>3/3/21</th>\n      <th>3/4/21</th>\n    </tr>\n  </thead>\n  <tbody>\n    <tr>\n      <th>208</th>\n      <td>NaN</td>\n      <td>Philippines</td>\n      <td>12.879721</td>\n      <td>121.774017</td>\n      <td>0</td>\n      <td>0</td>\n      <td>0</td>\n      <td>0</td>\n      <td>0</td>\n      <td>0</td>\n      <td>...</td>\n      <td>564865</td>\n      <td>566420</td>\n      <td>568680</td>\n      <td>571327</td>\n      <td>574247</td>\n      <td>576352</td>\n      <td>578381</td>\n      <td>580442</td>\n      <td>582223</td>\n      <td>584667</td>\n    </tr>\n  </tbody>\n</table>\n<p>1 rows × 412 columns</p>\n</div>"
     },
     "metadata": {},
     "execution_count": 5
    }
   ],
   "source": [
    "ph"
   ]
  },
  {
   "cell_type": "code",
   "execution_count": 14,
   "metadata": {},
   "outputs": [
    {
     "output_type": "execute_result",
     "data": {
      "text/plain": [
       "    Province/State        Long\n",
       "208            NaN  121.774017"
      ],
      "text/html": "<div>\n<style scoped>\n    .dataframe tbody tr th:only-of-type {\n        vertical-align: middle;\n    }\n\n    .dataframe tbody tr th {\n        vertical-align: top;\n    }\n\n    .dataframe thead th {\n        text-align: right;\n    }\n</style>\n<table border=\"1\" class=\"dataframe\">\n  <thead>\n    <tr style=\"text-align: right;\">\n      <th></th>\n      <th>Province/State</th>\n      <th>Long</th>\n    </tr>\n  </thead>\n  <tbody>\n    <tr>\n      <th>208</th>\n      <td>NaN</td>\n      <td>121.774017</td>\n    </tr>\n  </tbody>\n</table>\n</div>"
     },
     "metadata": {},
     "execution_count": 14
    }
   ],
   "source": [
    "ph.drop(ph.iloc[:, 2:3], inplace = True, axis = 1) \n",
    "ph"
   ]
  },
  {
   "cell_type": "code",
   "execution_count": 15,
   "metadata": {},
   "outputs": [
    {
     "output_type": "execute_result",
     "data": {
      "text/plain": [
       "    Province/State Country/Region        Lat        Long  1/22/20  1/23/20  \\\n",
       "208            NaN    Philippines  12.879721  121.774017        0        0   \n",
       "\n",
       "     1/24/20  1/25/20  1/26/20  1/27/20  ...  2/24/21  2/25/21  2/26/21  \\\n",
       "208        0        0        0        0  ...   566420   568680   571327   \n",
       "\n",
       "     2/27/21  2/28/21  3/1/21  3/2/21  3/3/21  3/4/21  3/5/21  \n",
       "208   574247   576352  578381  580442  582223  584667  587704  \n",
       "\n",
       "[1 rows x 413 columns]"
      ],
      "text/html": "<div>\n<style scoped>\n    .dataframe tbody tr th:only-of-type {\n        vertical-align: middle;\n    }\n\n    .dataframe tbody tr th {\n        vertical-align: top;\n    }\n\n    .dataframe thead th {\n        text-align: right;\n    }\n</style>\n<table border=\"1\" class=\"dataframe\">\n  <thead>\n    <tr style=\"text-align: right;\">\n      <th></th>\n      <th>Province/State</th>\n      <th>Country/Region</th>\n      <th>Lat</th>\n      <th>Long</th>\n      <th>1/22/20</th>\n      <th>1/23/20</th>\n      <th>1/24/20</th>\n      <th>1/25/20</th>\n      <th>1/26/20</th>\n      <th>1/27/20</th>\n      <th>...</th>\n      <th>2/24/21</th>\n      <th>2/25/21</th>\n      <th>2/26/21</th>\n      <th>2/27/21</th>\n      <th>2/28/21</th>\n      <th>3/1/21</th>\n      <th>3/2/21</th>\n      <th>3/3/21</th>\n      <th>3/4/21</th>\n      <th>3/5/21</th>\n    </tr>\n  </thead>\n  <tbody>\n    <tr>\n      <th>208</th>\n      <td>NaN</td>\n      <td>Philippines</td>\n      <td>12.879721</td>\n      <td>121.774017</td>\n      <td>0</td>\n      <td>0</td>\n      <td>0</td>\n      <td>0</td>\n      <td>0</td>\n      <td>0</td>\n      <td>...</td>\n      <td>566420</td>\n      <td>568680</td>\n      <td>571327</td>\n      <td>574247</td>\n      <td>576352</td>\n      <td>578381</td>\n      <td>580442</td>\n      <td>582223</td>\n      <td>584667</td>\n      <td>587704</td>\n    </tr>\n  </tbody>\n</table>\n<p>1 rows × 413 columns</p>\n</div>"
     },
     "metadata": {},
     "execution_count": 15
    }
   ],
   "source": [
    "df = pd.read_csv(confirmed)\n",
    "ph = df.loc[df[\"Country/Region\"] == \"Philippines\"]\n",
    "ph"
   ]
  },
  {
   "cell_type": "code",
   "execution_count": 46,
   "metadata": {},
   "outputs": [
    {
     "output_type": "execute_result",
     "data": {
      "text/plain": [
       "208    587704\n",
       "Name: 3/5/21, dtype: int64"
      ]
     },
     "metadata": {},
     "execution_count": 46
    }
   ],
   "source": [
    "ph.iloc[:,-1]"
   ]
  },
  {
   "cell_type": "code",
   "execution_count": 55,
   "metadata": {},
   "outputs": [
    {
     "output_type": "stream",
     "name": "stdout",
     "text": [
      "0 %\n"
     ]
    }
   ],
   "source": [
    "s = int(ph.iloc[:,-1])\n",
    "b = int(ph.iloc[:,-2])\n",
    "print(percent(s,b),\"%\")"
   ]
  },
  {
   "cell_type": "code",
   "execution_count": 57,
   "metadata": {},
   "outputs": [
    {
     "output_type": "stream",
     "name": "stdout",
     "text": [
      "-0.5167567346827655 %\n"
     ]
    }
   ],
   "source": [
    "s = int(ph.iloc[:,-1])\n",
    "b = int(ph.iloc[:,-2])\n",
    "print(percent(s,b),\"%\")\n"
   ]
  },
  {
   "cell_type": "code",
   "execution_count": 58,
   "metadata": {},
   "outputs": [
    {
     "output_type": "execute_result",
     "data": {
      "text/plain": [
       "    Province/State Country/Region        Lat        Long  1/22/20  1/23/20  \\\n",
       "208            NaN    Philippines  12.879721  121.774017        0        0   \n",
       "\n",
       "     1/24/20  1/25/20  1/26/20  1/27/20  ...  2/24/21  2/25/21  2/26/21  \\\n",
       "208        0        0        0        0  ...   566420   568680   571327   \n",
       "\n",
       "     2/27/21  2/28/21  3/1/21  3/2/21  3/3/21  3/4/21  3/5/21  \n",
       "208   574247   576352  578381  580442  582223  584667  587704  \n",
       "\n",
       "[1 rows x 413 columns]"
      ],
      "text/html": "<div>\n<style scoped>\n    .dataframe tbody tr th:only-of-type {\n        vertical-align: middle;\n    }\n\n    .dataframe tbody tr th {\n        vertical-align: top;\n    }\n\n    .dataframe thead th {\n        text-align: right;\n    }\n</style>\n<table border=\"1\" class=\"dataframe\">\n  <thead>\n    <tr style=\"text-align: right;\">\n      <th></th>\n      <th>Province/State</th>\n      <th>Country/Region</th>\n      <th>Lat</th>\n      <th>Long</th>\n      <th>1/22/20</th>\n      <th>1/23/20</th>\n      <th>1/24/20</th>\n      <th>1/25/20</th>\n      <th>1/26/20</th>\n      <th>1/27/20</th>\n      <th>...</th>\n      <th>2/24/21</th>\n      <th>2/25/21</th>\n      <th>2/26/21</th>\n      <th>2/27/21</th>\n      <th>2/28/21</th>\n      <th>3/1/21</th>\n      <th>3/2/21</th>\n      <th>3/3/21</th>\n      <th>3/4/21</th>\n      <th>3/5/21</th>\n    </tr>\n  </thead>\n  <tbody>\n    <tr>\n      <th>208</th>\n      <td>NaN</td>\n      <td>Philippines</td>\n      <td>12.879721</td>\n      <td>121.774017</td>\n      <td>0</td>\n      <td>0</td>\n      <td>0</td>\n      <td>0</td>\n      <td>0</td>\n      <td>0</td>\n      <td>...</td>\n      <td>566420</td>\n      <td>568680</td>\n      <td>571327</td>\n      <td>574247</td>\n      <td>576352</td>\n      <td>578381</td>\n      <td>580442</td>\n      <td>582223</td>\n      <td>584667</td>\n      <td>587704</td>\n    </tr>\n  </tbody>\n</table>\n<p>1 rows × 413 columns</p>\n</div>"
     },
     "metadata": {},
     "execution_count": 58
    }
   ],
   "source": [
    "ph"
   ]
  },
  {
   "cell_type": "code",
   "execution_count": 59,
   "metadata": {},
   "outputs": [],
   "source": [
    "ph[\"new\"] = 5\n",
    "ph[\"old\"] = 10"
   ]
  },
  {
   "cell_type": "code",
   "execution_count": 60,
   "metadata": {},
   "outputs": [
    {
     "output_type": "execute_result",
     "data": {
      "text/plain": [
       "    Province/State Country/Region        Lat        Long  1/22/20  1/23/20  \\\n",
       "208            NaN    Philippines  12.879721  121.774017        0        0   \n",
       "\n",
       "     1/24/20  1/25/20  1/26/20  1/27/20  ...  2/26/21  2/27/21  2/28/21  \\\n",
       "208        0        0        0        0  ...   571327   574247   576352   \n",
       "\n",
       "     3/1/21  3/2/21  3/3/21  3/4/21  3/5/21  new  old  \n",
       "208  578381  580442  582223  584667  587704    5   10  \n",
       "\n",
       "[1 rows x 415 columns]"
      ],
      "text/html": "<div>\n<style scoped>\n    .dataframe tbody tr th:only-of-type {\n        vertical-align: middle;\n    }\n\n    .dataframe tbody tr th {\n        vertical-align: top;\n    }\n\n    .dataframe thead th {\n        text-align: right;\n    }\n</style>\n<table border=\"1\" class=\"dataframe\">\n  <thead>\n    <tr style=\"text-align: right;\">\n      <th></th>\n      <th>Province/State</th>\n      <th>Country/Region</th>\n      <th>Lat</th>\n      <th>Long</th>\n      <th>1/22/20</th>\n      <th>1/23/20</th>\n      <th>1/24/20</th>\n      <th>1/25/20</th>\n      <th>1/26/20</th>\n      <th>1/27/20</th>\n      <th>...</th>\n      <th>2/26/21</th>\n      <th>2/27/21</th>\n      <th>2/28/21</th>\n      <th>3/1/21</th>\n      <th>3/2/21</th>\n      <th>3/3/21</th>\n      <th>3/4/21</th>\n      <th>3/5/21</th>\n      <th>new</th>\n      <th>old</th>\n    </tr>\n  </thead>\n  <tbody>\n    <tr>\n      <th>208</th>\n      <td>NaN</td>\n      <td>Philippines</td>\n      <td>12.879721</td>\n      <td>121.774017</td>\n      <td>0</td>\n      <td>0</td>\n      <td>0</td>\n      <td>0</td>\n      <td>0</td>\n      <td>0</td>\n      <td>...</td>\n      <td>571327</td>\n      <td>574247</td>\n      <td>576352</td>\n      <td>578381</td>\n      <td>580442</td>\n      <td>582223</td>\n      <td>584667</td>\n      <td>587704</td>\n      <td>5</td>\n      <td>10</td>\n    </tr>\n  </tbody>\n</table>\n<p>1 rows × 415 columns</p>\n</div>"
     },
     "metadata": {},
     "execution_count": 60
    }
   ],
   "source": [
    "ph"
   ]
  },
  {
   "cell_type": "code",
   "execution_count": 61,
   "metadata": {},
   "outputs": [
    {
     "output_type": "stream",
     "name": "stdout",
     "text": [
      "-50.0 %\n"
     ]
    }
   ],
   "source": [
    "s = int(ph.iloc[:,-1])\n",
    "b = int(ph.iloc[:,-2])\n",
    "print(percent(s,b),\"%\")\n"
   ]
  },
  {
   "cell_type": "code",
   "execution_count": null,
   "metadata": {},
   "outputs": [],
   "source": []
  }
 ]
}