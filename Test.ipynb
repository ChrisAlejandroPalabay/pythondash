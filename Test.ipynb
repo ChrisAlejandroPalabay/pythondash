{
 "metadata": {
  "language_info": {
   "codemirror_mode": {
    "name": "ipython",
    "version": 3
   },
   "file_extension": ".py",
   "mimetype": "text/x-python",
   "name": "python",
   "nbconvert_exporter": "python",
   "pygments_lexer": "ipython3",
   "version": "3.8.5-final"
  },
  "orig_nbformat": 2,
  "kernelspec": {
   "name": "python3",
   "display_name": "Python 3.8.5 64-bit ('base': conda)",
   "metadata": {
    "interpreter": {
     "hash": "dca0ade3e726a953b501b15e8e990130d2b7799f14cfd9f4271676035ebe5511"
    }
   }
  }
 },
 "nbformat": 4,
 "nbformat_minor": 2,
 "cells": [
  {
   "cell_type": "code",
   "execution_count": 1,
   "metadata": {},
   "outputs": [
    {
     "output_type": "execute_result",
     "data": {
      "text/plain": [
       "    Province/State      Country/Region        Lat        Long  1/22/20  \\\n",
       "0              NaN         Afghanistan  33.939110   67.709953        0   \n",
       "1              NaN             Albania  41.153300   20.168300        0   \n",
       "2              NaN             Algeria  28.033900    1.659600        0   \n",
       "3              NaN             Andorra  42.506300    1.521800        0   \n",
       "4              NaN              Angola -11.202700   17.873900        0   \n",
       "..             ...                 ...        ...         ...      ...   \n",
       "269            NaN             Vietnam  14.058324  108.277199        0   \n",
       "270            NaN  West Bank and Gaza  31.952200   35.233200        0   \n",
       "271            NaN               Yemen  15.552727   48.516388        0   \n",
       "272            NaN              Zambia -13.133897   27.849332        0   \n",
       "273            NaN            Zimbabwe -19.015438   29.154857        0   \n",
       "\n",
       "     1/23/20  1/24/20  1/25/20  1/26/20  1/27/20  ...  2/24/21  2/25/21  \\\n",
       "0          0        0        0        0        0  ...    55664    55680   \n",
       "1          0        0        0        0        0  ...   103327   104313   \n",
       "2          0        0        0        0        0  ...   112461   112622   \n",
       "3          0        0        0        0        0  ...    10775    10799   \n",
       "4          0        0        0        0        0  ...    20640    20695   \n",
       "..       ...      ...      ...      ...      ...  ...      ...      ...   \n",
       "269        2        2        2        2        2  ...     2412     2421   \n",
       "270        0        0        0        0        0  ...   177768   179293   \n",
       "271        0        0        0        0        0  ...     2221     2255   \n",
       "272        0        0        0        0        0  ...    76484    77171   \n",
       "273        0        0        0        0        0  ...    35960    35994   \n",
       "\n",
       "     2/26/21  2/27/21  2/28/21  3/1/21  3/2/21  3/3/21  3/4/21  3/5/21  \n",
       "0      55696    55707    55714   55733   55759   55770   55775   55827  \n",
       "1     105229   106215   107167  107931  108823  109674  110521  111301  \n",
       "2     112805   112960   113092  113255  113430  113593  113761  113948  \n",
       "3      10822    10849    10866   10889   10908   10948   10976   10998  \n",
       "4      20759    20782    20807   20854   20882   20923   20981   21026  \n",
       "..       ...      ...      ...     ...     ...     ...     ...     ...  \n",
       "269     2426     2432     2448    2448    2475    2482    2488    2494  \n",
       "270   180848   181909   183612  185336  187309  189326  191203  193029  \n",
       "271     2267     2269     2285    2310    2342    2363    2375    2411  \n",
       "272    77639    78202    78534   79002   79557   80090   80687   81341  \n",
       "273    36044    36058    36089   36115   36148   36179   36223   36248  \n",
       "\n",
       "[274 rows x 413 columns]"
      ],
      "text/html": "<div>\n<style scoped>\n    .dataframe tbody tr th:only-of-type {\n        vertical-align: middle;\n    }\n\n    .dataframe tbody tr th {\n        vertical-align: top;\n    }\n\n    .dataframe thead th {\n        text-align: right;\n    }\n</style>\n<table border=\"1\" class=\"dataframe\">\n  <thead>\n    <tr style=\"text-align: right;\">\n      <th></th>\n      <th>Province/State</th>\n      <th>Country/Region</th>\n      <th>Lat</th>\n      <th>Long</th>\n      <th>1/22/20</th>\n      <th>1/23/20</th>\n      <th>1/24/20</th>\n      <th>1/25/20</th>\n      <th>1/26/20</th>\n      <th>1/27/20</th>\n      <th>...</th>\n      <th>2/24/21</th>\n      <th>2/25/21</th>\n      <th>2/26/21</th>\n      <th>2/27/21</th>\n      <th>2/28/21</th>\n      <th>3/1/21</th>\n      <th>3/2/21</th>\n      <th>3/3/21</th>\n      <th>3/4/21</th>\n      <th>3/5/21</th>\n    </tr>\n  </thead>\n  <tbody>\n    <tr>\n      <th>0</th>\n      <td>NaN</td>\n      <td>Afghanistan</td>\n      <td>33.939110</td>\n      <td>67.709953</td>\n      <td>0</td>\n      <td>0</td>\n      <td>0</td>\n      <td>0</td>\n      <td>0</td>\n      <td>0</td>\n      <td>...</td>\n      <td>55664</td>\n      <td>55680</td>\n      <td>55696</td>\n      <td>55707</td>\n      <td>55714</td>\n      <td>55733</td>\n      <td>55759</td>\n      <td>55770</td>\n      <td>55775</td>\n      <td>55827</td>\n    </tr>\n    <tr>\n      <th>1</th>\n      <td>NaN</td>\n      <td>Albania</td>\n      <td>41.153300</td>\n      <td>20.168300</td>\n      <td>0</td>\n      <td>0</td>\n      <td>0</td>\n      <td>0</td>\n      <td>0</td>\n      <td>0</td>\n      <td>...</td>\n      <td>103327</td>\n      <td>104313</td>\n      <td>105229</td>\n      <td>106215</td>\n      <td>107167</td>\n      <td>107931</td>\n      <td>108823</td>\n      <td>109674</td>\n      <td>110521</td>\n      <td>111301</td>\n    </tr>\n    <tr>\n      <th>2</th>\n      <td>NaN</td>\n      <td>Algeria</td>\n      <td>28.033900</td>\n      <td>1.659600</td>\n      <td>0</td>\n      <td>0</td>\n      <td>0</td>\n      <td>0</td>\n      <td>0</td>\n      <td>0</td>\n      <td>...</td>\n      <td>112461</td>\n      <td>112622</td>\n      <td>112805</td>\n      <td>112960</td>\n      <td>113092</td>\n      <td>113255</td>\n      <td>113430</td>\n      <td>113593</td>\n      <td>113761</td>\n      <td>113948</td>\n    </tr>\n    <tr>\n      <th>3</th>\n      <td>NaN</td>\n      <td>Andorra</td>\n      <td>42.506300</td>\n      <td>1.521800</td>\n      <td>0</td>\n      <td>0</td>\n      <td>0</td>\n      <td>0</td>\n      <td>0</td>\n      <td>0</td>\n      <td>...</td>\n      <td>10775</td>\n      <td>10799</td>\n      <td>10822</td>\n      <td>10849</td>\n      <td>10866</td>\n      <td>10889</td>\n      <td>10908</td>\n      <td>10948</td>\n      <td>10976</td>\n      <td>10998</td>\n    </tr>\n    <tr>\n      <th>4</th>\n      <td>NaN</td>\n      <td>Angola</td>\n      <td>-11.202700</td>\n      <td>17.873900</td>\n      <td>0</td>\n      <td>0</td>\n      <td>0</td>\n      <td>0</td>\n      <td>0</td>\n      <td>0</td>\n      <td>...</td>\n      <td>20640</td>\n      <td>20695</td>\n      <td>20759</td>\n      <td>20782</td>\n      <td>20807</td>\n      <td>20854</td>\n      <td>20882</td>\n      <td>20923</td>\n      <td>20981</td>\n      <td>21026</td>\n    </tr>\n    <tr>\n      <th>...</th>\n      <td>...</td>\n      <td>...</td>\n      <td>...</td>\n      <td>...</td>\n      <td>...</td>\n      <td>...</td>\n      <td>...</td>\n      <td>...</td>\n      <td>...</td>\n      <td>...</td>\n      <td>...</td>\n      <td>...</td>\n      <td>...</td>\n      <td>...</td>\n      <td>...</td>\n      <td>...</td>\n      <td>...</td>\n      <td>...</td>\n      <td>...</td>\n      <td>...</td>\n      <td>...</td>\n    </tr>\n    <tr>\n      <th>269</th>\n      <td>NaN</td>\n      <td>Vietnam</td>\n      <td>14.058324</td>\n      <td>108.277199</td>\n      <td>0</td>\n      <td>2</td>\n      <td>2</td>\n      <td>2</td>\n      <td>2</td>\n      <td>2</td>\n      <td>...</td>\n      <td>2412</td>\n      <td>2421</td>\n      <td>2426</td>\n      <td>2432</td>\n      <td>2448</td>\n      <td>2448</td>\n      <td>2475</td>\n      <td>2482</td>\n      <td>2488</td>\n      <td>2494</td>\n    </tr>\n    <tr>\n      <th>270</th>\n      <td>NaN</td>\n      <td>West Bank and Gaza</td>\n      <td>31.952200</td>\n      <td>35.233200</td>\n      <td>0</td>\n      <td>0</td>\n      <td>0</td>\n      <td>0</td>\n      <td>0</td>\n      <td>0</td>\n      <td>...</td>\n      <td>177768</td>\n      <td>179293</td>\n      <td>180848</td>\n      <td>181909</td>\n      <td>183612</td>\n      <td>185336</td>\n      <td>187309</td>\n      <td>189326</td>\n      <td>191203</td>\n      <td>193029</td>\n    </tr>\n    <tr>\n      <th>271</th>\n      <td>NaN</td>\n      <td>Yemen</td>\n      <td>15.552727</td>\n      <td>48.516388</td>\n      <td>0</td>\n      <td>0</td>\n      <td>0</td>\n      <td>0</td>\n      <td>0</td>\n      <td>0</td>\n      <td>...</td>\n      <td>2221</td>\n      <td>2255</td>\n      <td>2267</td>\n      <td>2269</td>\n      <td>2285</td>\n      <td>2310</td>\n      <td>2342</td>\n      <td>2363</td>\n      <td>2375</td>\n      <td>2411</td>\n    </tr>\n    <tr>\n      <th>272</th>\n      <td>NaN</td>\n      <td>Zambia</td>\n      <td>-13.133897</td>\n      <td>27.849332</td>\n      <td>0</td>\n      <td>0</td>\n      <td>0</td>\n      <td>0</td>\n      <td>0</td>\n      <td>0</td>\n      <td>...</td>\n      <td>76484</td>\n      <td>77171</td>\n      <td>77639</td>\n      <td>78202</td>\n      <td>78534</td>\n      <td>79002</td>\n      <td>79557</td>\n      <td>80090</td>\n      <td>80687</td>\n      <td>81341</td>\n    </tr>\n    <tr>\n      <th>273</th>\n      <td>NaN</td>\n      <td>Zimbabwe</td>\n      <td>-19.015438</td>\n      <td>29.154857</td>\n      <td>0</td>\n      <td>0</td>\n      <td>0</td>\n      <td>0</td>\n      <td>0</td>\n      <td>0</td>\n      <td>...</td>\n      <td>35960</td>\n      <td>35994</td>\n      <td>36044</td>\n      <td>36058</td>\n      <td>36089</td>\n      <td>36115</td>\n      <td>36148</td>\n      <td>36179</td>\n      <td>36223</td>\n      <td>36248</td>\n    </tr>\n  </tbody>\n</table>\n<p>274 rows × 413 columns</p>\n</div>"
     },
     "metadata": {},
     "execution_count": 1
    }
   ],
   "source": [
    "import pandas as pd\n",
    "\n",
    "confirmed = \"https://raw.githubusercontent.com/CSSEGISandData/COVID-19/master/csse_covid_19_data/csse_covid_19_time_series/time_series_covid19_confirmed_global.csv\"\n",
    "deaths = \"https://raw.githubusercontent.com/CSSEGISandData/COVID-19/master/csse_covid_19_data/csse_covid_19_time_series/time_series_covid19_deaths_global.csv\"\n",
    "recovery = \"https://raw.githubusercontent.com/CSSEGISandData/COVID-19/master/csse_covid_19_data/csse_covid_19_time_series/time_series_covid19_recovered_global.csv\"\n",
    "\n",
    "df = pd.read_csv(confirmed)\n",
    "df"
   ]
  },
  {
   "cell_type": "code",
   "execution_count": 2,
   "metadata": {},
   "outputs": [
    {
     "output_type": "execute_result",
     "data": {
      "text/plain": [
       "    Province/State Country/Region        Lat        Long  1/22/20  1/23/20  \\\n",
       "208            NaN    Philippines  12.879721  121.774017        0        0   \n",
       "\n",
       "     1/24/20  1/25/20  1/26/20  1/27/20  ...  2/24/21  2/25/21  2/26/21  \\\n",
       "208        0        0        0        0  ...   566420   568680   571327   \n",
       "\n",
       "     2/27/21  2/28/21  3/1/21  3/2/21  3/3/21  3/4/21  3/5/21  \n",
       "208   574247   576352  578381  580442  582223  584667  587704  \n",
       "\n",
       "[1 rows x 413 columns]"
      ],
      "text/html": "<div>\n<style scoped>\n    .dataframe tbody tr th:only-of-type {\n        vertical-align: middle;\n    }\n\n    .dataframe tbody tr th {\n        vertical-align: top;\n    }\n\n    .dataframe thead th {\n        text-align: right;\n    }\n</style>\n<table border=\"1\" class=\"dataframe\">\n  <thead>\n    <tr style=\"text-align: right;\">\n      <th></th>\n      <th>Province/State</th>\n      <th>Country/Region</th>\n      <th>Lat</th>\n      <th>Long</th>\n      <th>1/22/20</th>\n      <th>1/23/20</th>\n      <th>1/24/20</th>\n      <th>1/25/20</th>\n      <th>1/26/20</th>\n      <th>1/27/20</th>\n      <th>...</th>\n      <th>2/24/21</th>\n      <th>2/25/21</th>\n      <th>2/26/21</th>\n      <th>2/27/21</th>\n      <th>2/28/21</th>\n      <th>3/1/21</th>\n      <th>3/2/21</th>\n      <th>3/3/21</th>\n      <th>3/4/21</th>\n      <th>3/5/21</th>\n    </tr>\n  </thead>\n  <tbody>\n    <tr>\n      <th>208</th>\n      <td>NaN</td>\n      <td>Philippines</td>\n      <td>12.879721</td>\n      <td>121.774017</td>\n      <td>0</td>\n      <td>0</td>\n      <td>0</td>\n      <td>0</td>\n      <td>0</td>\n      <td>0</td>\n      <td>...</td>\n      <td>566420</td>\n      <td>568680</td>\n      <td>571327</td>\n      <td>574247</td>\n      <td>576352</td>\n      <td>578381</td>\n      <td>580442</td>\n      <td>582223</td>\n      <td>584667</td>\n      <td>587704</td>\n    </tr>\n  </tbody>\n</table>\n<p>1 rows × 413 columns</p>\n</div>"
     },
     "metadata": {},
     "execution_count": 2
    }
   ],
   "source": [
    "ph = df.loc[df[\"Country/Region\"] == \"Philippines\"]\n",
    "ph"
   ]
  },
  {
   "cell_type": "code",
   "execution_count": 3,
   "metadata": {},
   "outputs": [],
   "source": [
    "def percent(a, b) : \n",
    "  \n",
    "    result = float(((b - a) * 100) / a) \n",
    "\n",
    "    return result \n"
   ]
  },
  {
   "cell_type": "code",
   "execution_count": 4,
   "metadata": {},
   "outputs": [
    {
     "output_type": "execute_result",
     "data": {
      "text/plain": [
       "    Province/State Country/Region        Lat        Long  1/22/20  1/23/20  \\\n",
       "208            NaN    Philippines  12.879721  121.774017        0        0   \n",
       "\n",
       "     1/24/20  1/25/20  1/26/20  1/27/20  ...  2/24/21  2/25/21  2/26/21  \\\n",
       "208        0        0        0        0  ...   566420   568680   571327   \n",
       "\n",
       "     2/27/21  2/28/21  3/1/21  3/2/21  3/3/21  3/4/21  3/5/21  \n",
       "208   574247   576352  578381  580442  582223  584667  587704  \n",
       "\n",
       "[1 rows x 413 columns]"
      ],
      "text/html": "<div>\n<style scoped>\n    .dataframe tbody tr th:only-of-type {\n        vertical-align: middle;\n    }\n\n    .dataframe tbody tr th {\n        vertical-align: top;\n    }\n\n    .dataframe thead th {\n        text-align: right;\n    }\n</style>\n<table border=\"1\" class=\"dataframe\">\n  <thead>\n    <tr style=\"text-align: right;\">\n      <th></th>\n      <th>Province/State</th>\n      <th>Country/Region</th>\n      <th>Lat</th>\n      <th>Long</th>\n      <th>1/22/20</th>\n      <th>1/23/20</th>\n      <th>1/24/20</th>\n      <th>1/25/20</th>\n      <th>1/26/20</th>\n      <th>1/27/20</th>\n      <th>...</th>\n      <th>2/24/21</th>\n      <th>2/25/21</th>\n      <th>2/26/21</th>\n      <th>2/27/21</th>\n      <th>2/28/21</th>\n      <th>3/1/21</th>\n      <th>3/2/21</th>\n      <th>3/3/21</th>\n      <th>3/4/21</th>\n      <th>3/5/21</th>\n    </tr>\n  </thead>\n  <tbody>\n    <tr>\n      <th>208</th>\n      <td>NaN</td>\n      <td>Philippines</td>\n      <td>12.879721</td>\n      <td>121.774017</td>\n      <td>0</td>\n      <td>0</td>\n      <td>0</td>\n      <td>0</td>\n      <td>0</td>\n      <td>0</td>\n      <td>...</td>\n      <td>566420</td>\n      <td>568680</td>\n      <td>571327</td>\n      <td>574247</td>\n      <td>576352</td>\n      <td>578381</td>\n      <td>580442</td>\n      <td>582223</td>\n      <td>584667</td>\n      <td>587704</td>\n    </tr>\n  </tbody>\n</table>\n<p>1 rows × 413 columns</p>\n</div>"
     },
     "metadata": {},
     "execution_count": 4
    }
   ],
   "source": [
    "ph"
   ]
  },
  {
   "cell_type": "code",
   "execution_count": 5,
   "metadata": {},
   "outputs": [
    {
     "output_type": "execute_result",
     "data": {
      "text/plain": [
       "    Province/State Country/Region        Long  1/22/20  1/23/20  1/24/20  \\\n",
       "208            NaN    Philippines  121.774017        0        0        0   \n",
       "\n",
       "     1/25/20  1/26/20  1/27/20  1/28/20  ...  2/24/21  2/25/21  2/26/21  \\\n",
       "208        0        0        0        0  ...   566420   568680   571327   \n",
       "\n",
       "     2/27/21  2/28/21  3/1/21  3/2/21  3/3/21  3/4/21  3/5/21  \n",
       "208   574247   576352  578381  580442  582223  584667  587704  \n",
       "\n",
       "[1 rows x 412 columns]"
      ],
      "text/html": "<div>\n<style scoped>\n    .dataframe tbody tr th:only-of-type {\n        vertical-align: middle;\n    }\n\n    .dataframe tbody tr th {\n        vertical-align: top;\n    }\n\n    .dataframe thead th {\n        text-align: right;\n    }\n</style>\n<table border=\"1\" class=\"dataframe\">\n  <thead>\n    <tr style=\"text-align: right;\">\n      <th></th>\n      <th>Province/State</th>\n      <th>Country/Region</th>\n      <th>Long</th>\n      <th>1/22/20</th>\n      <th>1/23/20</th>\n      <th>1/24/20</th>\n      <th>1/25/20</th>\n      <th>1/26/20</th>\n      <th>1/27/20</th>\n      <th>1/28/20</th>\n      <th>...</th>\n      <th>2/24/21</th>\n      <th>2/25/21</th>\n      <th>2/26/21</th>\n      <th>2/27/21</th>\n      <th>2/28/21</th>\n      <th>3/1/21</th>\n      <th>3/2/21</th>\n      <th>3/3/21</th>\n      <th>3/4/21</th>\n      <th>3/5/21</th>\n    </tr>\n  </thead>\n  <tbody>\n    <tr>\n      <th>208</th>\n      <td>NaN</td>\n      <td>Philippines</td>\n      <td>121.774017</td>\n      <td>0</td>\n      <td>0</td>\n      <td>0</td>\n      <td>0</td>\n      <td>0</td>\n      <td>0</td>\n      <td>0</td>\n      <td>...</td>\n      <td>566420</td>\n      <td>568680</td>\n      <td>571327</td>\n      <td>574247</td>\n      <td>576352</td>\n      <td>578381</td>\n      <td>580442</td>\n      <td>582223</td>\n      <td>584667</td>\n      <td>587704</td>\n    </tr>\n  </tbody>\n</table>\n<p>1 rows × 412 columns</p>\n</div>"
     },
     "metadata": {},
     "execution_count": 5
    }
   ],
   "source": [
    "ph.drop(ph.iloc[:, 2:3], inplace = True, axis = 1) \n",
    "ph"
   ]
  },
  {
   "cell_type": "code",
   "execution_count": 6,
   "metadata": {},
   "outputs": [
    {
     "output_type": "execute_result",
     "data": {
      "text/plain": [
       "    Province/State Country/Region        Lat        Long  1/22/20  1/23/20  \\\n",
       "208            NaN    Philippines  12.879721  121.774017        0        0   \n",
       "\n",
       "     1/24/20  1/25/20  1/26/20  1/27/20  ...  2/24/21  2/25/21  2/26/21  \\\n",
       "208        0        0        0        0  ...   566420   568680   571327   \n",
       "\n",
       "     2/27/21  2/28/21  3/1/21  3/2/21  3/3/21  3/4/21  3/5/21  \n",
       "208   574247   576352  578381  580442  582223  584667  587704  \n",
       "\n",
       "[1 rows x 413 columns]"
      ],
      "text/html": "<div>\n<style scoped>\n    .dataframe tbody tr th:only-of-type {\n        vertical-align: middle;\n    }\n\n    .dataframe tbody tr th {\n        vertical-align: top;\n    }\n\n    .dataframe thead th {\n        text-align: right;\n    }\n</style>\n<table border=\"1\" class=\"dataframe\">\n  <thead>\n    <tr style=\"text-align: right;\">\n      <th></th>\n      <th>Province/State</th>\n      <th>Country/Region</th>\n      <th>Lat</th>\n      <th>Long</th>\n      <th>1/22/20</th>\n      <th>1/23/20</th>\n      <th>1/24/20</th>\n      <th>1/25/20</th>\n      <th>1/26/20</th>\n      <th>1/27/20</th>\n      <th>...</th>\n      <th>2/24/21</th>\n      <th>2/25/21</th>\n      <th>2/26/21</th>\n      <th>2/27/21</th>\n      <th>2/28/21</th>\n      <th>3/1/21</th>\n      <th>3/2/21</th>\n      <th>3/3/21</th>\n      <th>3/4/21</th>\n      <th>3/5/21</th>\n    </tr>\n  </thead>\n  <tbody>\n    <tr>\n      <th>208</th>\n      <td>NaN</td>\n      <td>Philippines</td>\n      <td>12.879721</td>\n      <td>121.774017</td>\n      <td>0</td>\n      <td>0</td>\n      <td>0</td>\n      <td>0</td>\n      <td>0</td>\n      <td>0</td>\n      <td>...</td>\n      <td>566420</td>\n      <td>568680</td>\n      <td>571327</td>\n      <td>574247</td>\n      <td>576352</td>\n      <td>578381</td>\n      <td>580442</td>\n      <td>582223</td>\n      <td>584667</td>\n      <td>587704</td>\n    </tr>\n  </tbody>\n</table>\n<p>1 rows × 413 columns</p>\n</div>"
     },
     "metadata": {},
     "execution_count": 6
    }
   ],
   "source": [
    "df = pd.read_csv(confirmed)\n",
    "ph = df.loc[df[\"Country/Region\"] == \"Philippines\"]\n",
    "ph"
   ]
  },
  {
   "cell_type": "code",
   "execution_count": 7,
   "metadata": {},
   "outputs": [
    {
     "output_type": "execute_result",
     "data": {
      "text/plain": [
       "208    587704\n",
       "Name: 3/5/21, dtype: int64"
      ]
     },
     "metadata": {},
     "execution_count": 7
    }
   ],
   "source": [
    "ph.iloc[:,-1]"
   ]
  },
  {
   "cell_type": "code",
   "execution_count": 8,
   "metadata": {},
   "outputs": [
    {
     "output_type": "stream",
     "name": "stdout",
     "text": [
      "-0.5167567346827655 %\n"
     ]
    }
   ],
   "source": [
    "s = int(ph.iloc[:,-1])\n",
    "b = int(ph.iloc[:,-2])\n",
    "print(percent(s,b),\"%\")"
   ]
  },
  {
   "cell_type": "code",
   "execution_count": 9,
   "metadata": {},
   "outputs": [
    {
     "output_type": "stream",
     "name": "stdout",
     "text": [
      "-0.5167567346827655 %\n"
     ]
    }
   ],
   "source": [
    "s = int(ph.iloc[:,-1])\n",
    "b = int(ph.iloc[:,-2])\n",
    "print(percent(s,b),\"%\")\n"
   ]
  },
  {
   "cell_type": "code",
   "execution_count": 10,
   "metadata": {},
   "outputs": [
    {
     "output_type": "execute_result",
     "data": {
      "text/plain": [
       "    Province/State Country/Region        Lat        Long  1/22/20  1/23/20  \\\n",
       "208            NaN    Philippines  12.879721  121.774017        0        0   \n",
       "\n",
       "     1/24/20  1/25/20  1/26/20  1/27/20  ...  2/24/21  2/25/21  2/26/21  \\\n",
       "208        0        0        0        0  ...   566420   568680   571327   \n",
       "\n",
       "     2/27/21  2/28/21  3/1/21  3/2/21  3/3/21  3/4/21  3/5/21  \n",
       "208   574247   576352  578381  580442  582223  584667  587704  \n",
       "\n",
       "[1 rows x 413 columns]"
      ],
      "text/html": "<div>\n<style scoped>\n    .dataframe tbody tr th:only-of-type {\n        vertical-align: middle;\n    }\n\n    .dataframe tbody tr th {\n        vertical-align: top;\n    }\n\n    .dataframe thead th {\n        text-align: right;\n    }\n</style>\n<table border=\"1\" class=\"dataframe\">\n  <thead>\n    <tr style=\"text-align: right;\">\n      <th></th>\n      <th>Province/State</th>\n      <th>Country/Region</th>\n      <th>Lat</th>\n      <th>Long</th>\n      <th>1/22/20</th>\n      <th>1/23/20</th>\n      <th>1/24/20</th>\n      <th>1/25/20</th>\n      <th>1/26/20</th>\n      <th>1/27/20</th>\n      <th>...</th>\n      <th>2/24/21</th>\n      <th>2/25/21</th>\n      <th>2/26/21</th>\n      <th>2/27/21</th>\n      <th>2/28/21</th>\n      <th>3/1/21</th>\n      <th>3/2/21</th>\n      <th>3/3/21</th>\n      <th>3/4/21</th>\n      <th>3/5/21</th>\n    </tr>\n  </thead>\n  <tbody>\n    <tr>\n      <th>208</th>\n      <td>NaN</td>\n      <td>Philippines</td>\n      <td>12.879721</td>\n      <td>121.774017</td>\n      <td>0</td>\n      <td>0</td>\n      <td>0</td>\n      <td>0</td>\n      <td>0</td>\n      <td>0</td>\n      <td>...</td>\n      <td>566420</td>\n      <td>568680</td>\n      <td>571327</td>\n      <td>574247</td>\n      <td>576352</td>\n      <td>578381</td>\n      <td>580442</td>\n      <td>582223</td>\n      <td>584667</td>\n      <td>587704</td>\n    </tr>\n  </tbody>\n</table>\n<p>1 rows × 413 columns</p>\n</div>"
     },
     "metadata": {},
     "execution_count": 10
    }
   ],
   "source": [
    "ph"
   ]
  },
  {
   "cell_type": "code",
   "execution_count": 11,
   "metadata": {},
   "outputs": [],
   "source": [
    "ph[\"new\"] = 5\n",
    "ph[\"old\"] = 10"
   ]
  },
  {
   "cell_type": "code",
   "execution_count": 12,
   "metadata": {},
   "outputs": [
    {
     "output_type": "execute_result",
     "data": {
      "text/plain": [
       "    Province/State Country/Region        Lat        Long  1/22/20  1/23/20  \\\n",
       "208            NaN    Philippines  12.879721  121.774017        0        0   \n",
       "\n",
       "     1/24/20  1/25/20  1/26/20  1/27/20  ...  2/26/21  2/27/21  2/28/21  \\\n",
       "208        0        0        0        0  ...   571327   574247   576352   \n",
       "\n",
       "     3/1/21  3/2/21  3/3/21  3/4/21  3/5/21  new  old  \n",
       "208  578381  580442  582223  584667  587704    5   10  \n",
       "\n",
       "[1 rows x 415 columns]"
      ],
      "text/html": "<div>\n<style scoped>\n    .dataframe tbody tr th:only-of-type {\n        vertical-align: middle;\n    }\n\n    .dataframe tbody tr th {\n        vertical-align: top;\n    }\n\n    .dataframe thead th {\n        text-align: right;\n    }\n</style>\n<table border=\"1\" class=\"dataframe\">\n  <thead>\n    <tr style=\"text-align: right;\">\n      <th></th>\n      <th>Province/State</th>\n      <th>Country/Region</th>\n      <th>Lat</th>\n      <th>Long</th>\n      <th>1/22/20</th>\n      <th>1/23/20</th>\n      <th>1/24/20</th>\n      <th>1/25/20</th>\n      <th>1/26/20</th>\n      <th>1/27/20</th>\n      <th>...</th>\n      <th>2/26/21</th>\n      <th>2/27/21</th>\n      <th>2/28/21</th>\n      <th>3/1/21</th>\n      <th>3/2/21</th>\n      <th>3/3/21</th>\n      <th>3/4/21</th>\n      <th>3/5/21</th>\n      <th>new</th>\n      <th>old</th>\n    </tr>\n  </thead>\n  <tbody>\n    <tr>\n      <th>208</th>\n      <td>NaN</td>\n      <td>Philippines</td>\n      <td>12.879721</td>\n      <td>121.774017</td>\n      <td>0</td>\n      <td>0</td>\n      <td>0</td>\n      <td>0</td>\n      <td>0</td>\n      <td>0</td>\n      <td>...</td>\n      <td>571327</td>\n      <td>574247</td>\n      <td>576352</td>\n      <td>578381</td>\n      <td>580442</td>\n      <td>582223</td>\n      <td>584667</td>\n      <td>587704</td>\n      <td>5</td>\n      <td>10</td>\n    </tr>\n  </tbody>\n</table>\n<p>1 rows × 415 columns</p>\n</div>"
     },
     "metadata": {},
     "execution_count": 12
    }
   ],
   "source": [
    "ph"
   ]
  },
  {
   "cell_type": "code",
   "execution_count": 13,
   "metadata": {},
   "outputs": [
    {
     "output_type": "stream",
     "name": "stdout",
     "text": [
      "-50.0 %\n"
     ]
    }
   ],
   "source": [
    "s = int(ph.iloc[:,-1])\n",
    "b = int(ph.iloc[:,-2])\n",
    "print(percent(s,b),\"%\")\n"
   ]
  },
  {
   "cell_type": "code",
   "execution_count": 14,
   "metadata": {},
   "outputs": [
    {
     "output_type": "execute_result",
     "data": {
      "text/plain": [
       "    Province/State      Country/Region        Lat        Long  1/22/20  \\\n",
       "0              NaN         Afghanistan  33.939110   67.709953        0   \n",
       "1              NaN             Albania  41.153300   20.168300        0   \n",
       "2              NaN             Algeria  28.033900    1.659600        0   \n",
       "3              NaN             Andorra  42.506300    1.521800        0   \n",
       "4              NaN              Angola -11.202700   17.873900        0   \n",
       "..             ...                 ...        ...         ...      ...   \n",
       "269            NaN             Vietnam  14.058324  108.277199        0   \n",
       "270            NaN  West Bank and Gaza  31.952200   35.233200        0   \n",
       "271            NaN               Yemen  15.552727   48.516388        0   \n",
       "272            NaN              Zambia -13.133897   27.849332        0   \n",
       "273            NaN            Zimbabwe -19.015438   29.154857        0   \n",
       "\n",
       "     1/23/20  1/24/20  1/25/20  1/26/20  1/27/20  ...  2/24/21  2/25/21  \\\n",
       "0          0        0        0        0        0  ...     2436     2438   \n",
       "1          0        0        0        0        0  ...     1715     1736   \n",
       "2          0        0        0        0        0  ...     2970     2973   \n",
       "3          0        0        0        0        0  ...      110      110   \n",
       "4          0        0        0        0        0  ...      501      502   \n",
       "..       ...      ...      ...      ...      ...  ...      ...      ...   \n",
       "269        0        0        0        0        0  ...       35       35   \n",
       "270        0        0        0        0        0  ...     1999     2008   \n",
       "271        0        0        0        0        0  ...      624      625   \n",
       "272        0        0        0        0        0  ...     1051     1059   \n",
       "273        0        0        0        0        0  ...     1456     1458   \n",
       "\n",
       "     2/26/21  2/27/21  2/28/21  3/1/21  3/2/21  3/3/21  3/4/21  3/5/21  \n",
       "0       2442     2443     2443    2444    2446    2446    2446    2449  \n",
       "1       1756     1775     1796    1816    1835    1856    1876    1897  \n",
       "2       2977     2979     2983    2987    2991    2996    3002    3007  \n",
       "3        110      110      110     110     110     112     112     112  \n",
       "4        504      506      508     508     510     510     511     511  \n",
       "..       ...      ...      ...     ...     ...     ...     ...     ...  \n",
       "269       35       35       35      35      35      35      35      35  \n",
       "270     2019     2025     2042    2058    2063    2078    2091    2110  \n",
       "271      627      631      634     634     640     643     645     648  \n",
       "272     1066     1081     1091    1098    1104    1108    1109    1113  \n",
       "273     1463     1463     1463    1468    1472    1478    1483    1484  \n",
       "\n",
       "[274 rows x 413 columns]"
      ],
      "text/html": "<div>\n<style scoped>\n    .dataframe tbody tr th:only-of-type {\n        vertical-align: middle;\n    }\n\n    .dataframe tbody tr th {\n        vertical-align: top;\n    }\n\n    .dataframe thead th {\n        text-align: right;\n    }\n</style>\n<table border=\"1\" class=\"dataframe\">\n  <thead>\n    <tr style=\"text-align: right;\">\n      <th></th>\n      <th>Province/State</th>\n      <th>Country/Region</th>\n      <th>Lat</th>\n      <th>Long</th>\n      <th>1/22/20</th>\n      <th>1/23/20</th>\n      <th>1/24/20</th>\n      <th>1/25/20</th>\n      <th>1/26/20</th>\n      <th>1/27/20</th>\n      <th>...</th>\n      <th>2/24/21</th>\n      <th>2/25/21</th>\n      <th>2/26/21</th>\n      <th>2/27/21</th>\n      <th>2/28/21</th>\n      <th>3/1/21</th>\n      <th>3/2/21</th>\n      <th>3/3/21</th>\n      <th>3/4/21</th>\n      <th>3/5/21</th>\n    </tr>\n  </thead>\n  <tbody>\n    <tr>\n      <th>0</th>\n      <td>NaN</td>\n      <td>Afghanistan</td>\n      <td>33.939110</td>\n      <td>67.709953</td>\n      <td>0</td>\n      <td>0</td>\n      <td>0</td>\n      <td>0</td>\n      <td>0</td>\n      <td>0</td>\n      <td>...</td>\n      <td>2436</td>\n      <td>2438</td>\n      <td>2442</td>\n      <td>2443</td>\n      <td>2443</td>\n      <td>2444</td>\n      <td>2446</td>\n      <td>2446</td>\n      <td>2446</td>\n      <td>2449</td>\n    </tr>\n    <tr>\n      <th>1</th>\n      <td>NaN</td>\n      <td>Albania</td>\n      <td>41.153300</td>\n      <td>20.168300</td>\n      <td>0</td>\n      <td>0</td>\n      <td>0</td>\n      <td>0</td>\n      <td>0</td>\n      <td>0</td>\n      <td>...</td>\n      <td>1715</td>\n      <td>1736</td>\n      <td>1756</td>\n      <td>1775</td>\n      <td>1796</td>\n      <td>1816</td>\n      <td>1835</td>\n      <td>1856</td>\n      <td>1876</td>\n      <td>1897</td>\n    </tr>\n    <tr>\n      <th>2</th>\n      <td>NaN</td>\n      <td>Algeria</td>\n      <td>28.033900</td>\n      <td>1.659600</td>\n      <td>0</td>\n      <td>0</td>\n      <td>0</td>\n      <td>0</td>\n      <td>0</td>\n      <td>0</td>\n      <td>...</td>\n      <td>2970</td>\n      <td>2973</td>\n      <td>2977</td>\n      <td>2979</td>\n      <td>2983</td>\n      <td>2987</td>\n      <td>2991</td>\n      <td>2996</td>\n      <td>3002</td>\n      <td>3007</td>\n    </tr>\n    <tr>\n      <th>3</th>\n      <td>NaN</td>\n      <td>Andorra</td>\n      <td>42.506300</td>\n      <td>1.521800</td>\n      <td>0</td>\n      <td>0</td>\n      <td>0</td>\n      <td>0</td>\n      <td>0</td>\n      <td>0</td>\n      <td>...</td>\n      <td>110</td>\n      <td>110</td>\n      <td>110</td>\n      <td>110</td>\n      <td>110</td>\n      <td>110</td>\n      <td>110</td>\n      <td>112</td>\n      <td>112</td>\n      <td>112</td>\n    </tr>\n    <tr>\n      <th>4</th>\n      <td>NaN</td>\n      <td>Angola</td>\n      <td>-11.202700</td>\n      <td>17.873900</td>\n      <td>0</td>\n      <td>0</td>\n      <td>0</td>\n      <td>0</td>\n      <td>0</td>\n      <td>0</td>\n      <td>...</td>\n      <td>501</td>\n      <td>502</td>\n      <td>504</td>\n      <td>506</td>\n      <td>508</td>\n      <td>508</td>\n      <td>510</td>\n      <td>510</td>\n      <td>511</td>\n      <td>511</td>\n    </tr>\n    <tr>\n      <th>...</th>\n      <td>...</td>\n      <td>...</td>\n      <td>...</td>\n      <td>...</td>\n      <td>...</td>\n      <td>...</td>\n      <td>...</td>\n      <td>...</td>\n      <td>...</td>\n      <td>...</td>\n      <td>...</td>\n      <td>...</td>\n      <td>...</td>\n      <td>...</td>\n      <td>...</td>\n      <td>...</td>\n      <td>...</td>\n      <td>...</td>\n      <td>...</td>\n      <td>...</td>\n      <td>...</td>\n    </tr>\n    <tr>\n      <th>269</th>\n      <td>NaN</td>\n      <td>Vietnam</td>\n      <td>14.058324</td>\n      <td>108.277199</td>\n      <td>0</td>\n      <td>0</td>\n      <td>0</td>\n      <td>0</td>\n      <td>0</td>\n      <td>0</td>\n      <td>...</td>\n      <td>35</td>\n      <td>35</td>\n      <td>35</td>\n      <td>35</td>\n      <td>35</td>\n      <td>35</td>\n      <td>35</td>\n      <td>35</td>\n      <td>35</td>\n      <td>35</td>\n    </tr>\n    <tr>\n      <th>270</th>\n      <td>NaN</td>\n      <td>West Bank and Gaza</td>\n      <td>31.952200</td>\n      <td>35.233200</td>\n      <td>0</td>\n      <td>0</td>\n      <td>0</td>\n      <td>0</td>\n      <td>0</td>\n      <td>0</td>\n      <td>...</td>\n      <td>1999</td>\n      <td>2008</td>\n      <td>2019</td>\n      <td>2025</td>\n      <td>2042</td>\n      <td>2058</td>\n      <td>2063</td>\n      <td>2078</td>\n      <td>2091</td>\n      <td>2110</td>\n    </tr>\n    <tr>\n      <th>271</th>\n      <td>NaN</td>\n      <td>Yemen</td>\n      <td>15.552727</td>\n      <td>48.516388</td>\n      <td>0</td>\n      <td>0</td>\n      <td>0</td>\n      <td>0</td>\n      <td>0</td>\n      <td>0</td>\n      <td>...</td>\n      <td>624</td>\n      <td>625</td>\n      <td>627</td>\n      <td>631</td>\n      <td>634</td>\n      <td>634</td>\n      <td>640</td>\n      <td>643</td>\n      <td>645</td>\n      <td>648</td>\n    </tr>\n    <tr>\n      <th>272</th>\n      <td>NaN</td>\n      <td>Zambia</td>\n      <td>-13.133897</td>\n      <td>27.849332</td>\n      <td>0</td>\n      <td>0</td>\n      <td>0</td>\n      <td>0</td>\n      <td>0</td>\n      <td>0</td>\n      <td>...</td>\n      <td>1051</td>\n      <td>1059</td>\n      <td>1066</td>\n      <td>1081</td>\n      <td>1091</td>\n      <td>1098</td>\n      <td>1104</td>\n      <td>1108</td>\n      <td>1109</td>\n      <td>1113</td>\n    </tr>\n    <tr>\n      <th>273</th>\n      <td>NaN</td>\n      <td>Zimbabwe</td>\n      <td>-19.015438</td>\n      <td>29.154857</td>\n      <td>0</td>\n      <td>0</td>\n      <td>0</td>\n      <td>0</td>\n      <td>0</td>\n      <td>0</td>\n      <td>...</td>\n      <td>1456</td>\n      <td>1458</td>\n      <td>1463</td>\n      <td>1463</td>\n      <td>1463</td>\n      <td>1468</td>\n      <td>1472</td>\n      <td>1478</td>\n      <td>1483</td>\n      <td>1484</td>\n    </tr>\n  </tbody>\n</table>\n<p>274 rows × 413 columns</p>\n</div>"
     },
     "metadata": {},
     "execution_count": 14
    }
   ],
   "source": [
    "dfdeaths = pd.read_csv(deaths)\n",
    "dfdeaths"
   ]
  },
  {
   "cell_type": "code",
   "execution_count": 15,
   "metadata": {},
   "outputs": [
    {
     "output_type": "execute_result",
     "data": {
      "text/plain": [
       "    Province/State      Country/Region        Lat        Long  1/22/20  \\\n",
       "0              NaN         Afghanistan  33.939110   67.709953        0   \n",
       "1              NaN             Albania  41.153300   20.168300        0   \n",
       "2              NaN             Algeria  28.033900    1.659600        0   \n",
       "3              NaN             Andorra  42.506300    1.521800        0   \n",
       "4              NaN              Angola -11.202700   17.873900        0   \n",
       "..             ...                 ...        ...         ...      ...   \n",
       "254            NaN             Vietnam  14.058324  108.277199        0   \n",
       "255            NaN  West Bank and Gaza  31.952200   35.233200        0   \n",
       "256            NaN               Yemen  15.552727   48.516388        0   \n",
       "257            NaN              Zambia -13.133897   27.849332        0   \n",
       "258            NaN            Zimbabwe -19.015438   29.154857        0   \n",
       "\n",
       "     1/23/20  1/24/20  1/25/20  1/26/20  1/27/20  ...  2/24/21  2/25/21  \\\n",
       "0          0        0        0        0        0  ...    49086    49281   \n",
       "1          0        0        0        0        0  ...    66309    67158   \n",
       "2          0        0        0        0        0  ...    77537    77683   \n",
       "3          0        0        0        0        0  ...    10319    10356   \n",
       "4          0        0        0        0        0  ...    19221    19238   \n",
       "..       ...      ...      ...      ...      ...  ...      ...      ...   \n",
       "254        0        0        0        0        0  ...     1804     1804   \n",
       "255        0        0        0        0        0  ...   163795   164557   \n",
       "256        0        0        0        0        0  ...     1433     1434   \n",
       "257        0        0        0        0        0  ...    69803    70800   \n",
       "258        0        0        0        0        0  ...    32410    32455   \n",
       "\n",
       "     2/26/21  2/27/21  2/28/21  3/1/21  3/2/21  3/3/21  3/4/21  3/5/21  \n",
       "0      49285    49288    49333   49344   49347   49359   49362   49362  \n",
       "1      68007    68969    69773   70413   71173   72076   72853   73610  \n",
       "2      77842    77976    78098   78234   78377   78524   78672   78824  \n",
       "3      10394    10429    10446   10475   10501   10560   10564   10584  \n",
       "4      19307    19315    19322   19400   19410   19509   19553   19624  \n",
       "..       ...      ...      ...     ...     ...     ...     ...     ...  \n",
       "254     1839     1844     1876    1876    1898    1898    1920    1920  \n",
       "255   165205   166119   166936  167744  168763  169915  171318  172588  \n",
       "256     1434     1435     1435    1435    1435    1435    1435    1439  \n",
       "257    72635    73609    74498   75087   75563   76299   76498   77081  \n",
       "258    32539    32590    32666   32905   32989   33392   33632   33759  \n",
       "\n",
       "[259 rows x 413 columns]"
      ],
      "text/html": "<div>\n<style scoped>\n    .dataframe tbody tr th:only-of-type {\n        vertical-align: middle;\n    }\n\n    .dataframe tbody tr th {\n        vertical-align: top;\n    }\n\n    .dataframe thead th {\n        text-align: right;\n    }\n</style>\n<table border=\"1\" class=\"dataframe\">\n  <thead>\n    <tr style=\"text-align: right;\">\n      <th></th>\n      <th>Province/State</th>\n      <th>Country/Region</th>\n      <th>Lat</th>\n      <th>Long</th>\n      <th>1/22/20</th>\n      <th>1/23/20</th>\n      <th>1/24/20</th>\n      <th>1/25/20</th>\n      <th>1/26/20</th>\n      <th>1/27/20</th>\n      <th>...</th>\n      <th>2/24/21</th>\n      <th>2/25/21</th>\n      <th>2/26/21</th>\n      <th>2/27/21</th>\n      <th>2/28/21</th>\n      <th>3/1/21</th>\n      <th>3/2/21</th>\n      <th>3/3/21</th>\n      <th>3/4/21</th>\n      <th>3/5/21</th>\n    </tr>\n  </thead>\n  <tbody>\n    <tr>\n      <th>0</th>\n      <td>NaN</td>\n      <td>Afghanistan</td>\n      <td>33.939110</td>\n      <td>67.709953</td>\n      <td>0</td>\n      <td>0</td>\n      <td>0</td>\n      <td>0</td>\n      <td>0</td>\n      <td>0</td>\n      <td>...</td>\n      <td>49086</td>\n      <td>49281</td>\n      <td>49285</td>\n      <td>49288</td>\n      <td>49333</td>\n      <td>49344</td>\n      <td>49347</td>\n      <td>49359</td>\n      <td>49362</td>\n      <td>49362</td>\n    </tr>\n    <tr>\n      <th>1</th>\n      <td>NaN</td>\n      <td>Albania</td>\n      <td>41.153300</td>\n      <td>20.168300</td>\n      <td>0</td>\n      <td>0</td>\n      <td>0</td>\n      <td>0</td>\n      <td>0</td>\n      <td>0</td>\n      <td>...</td>\n      <td>66309</td>\n      <td>67158</td>\n      <td>68007</td>\n      <td>68969</td>\n      <td>69773</td>\n      <td>70413</td>\n      <td>71173</td>\n      <td>72076</td>\n      <td>72853</td>\n      <td>73610</td>\n    </tr>\n    <tr>\n      <th>2</th>\n      <td>NaN</td>\n      <td>Algeria</td>\n      <td>28.033900</td>\n      <td>1.659600</td>\n      <td>0</td>\n      <td>0</td>\n      <td>0</td>\n      <td>0</td>\n      <td>0</td>\n      <td>0</td>\n      <td>...</td>\n      <td>77537</td>\n      <td>77683</td>\n      <td>77842</td>\n      <td>77976</td>\n      <td>78098</td>\n      <td>78234</td>\n      <td>78377</td>\n      <td>78524</td>\n      <td>78672</td>\n      <td>78824</td>\n    </tr>\n    <tr>\n      <th>3</th>\n      <td>NaN</td>\n      <td>Andorra</td>\n      <td>42.506300</td>\n      <td>1.521800</td>\n      <td>0</td>\n      <td>0</td>\n      <td>0</td>\n      <td>0</td>\n      <td>0</td>\n      <td>0</td>\n      <td>...</td>\n      <td>10319</td>\n      <td>10356</td>\n      <td>10394</td>\n      <td>10429</td>\n      <td>10446</td>\n      <td>10475</td>\n      <td>10501</td>\n      <td>10560</td>\n      <td>10564</td>\n      <td>10584</td>\n    </tr>\n    <tr>\n      <th>4</th>\n      <td>NaN</td>\n      <td>Angola</td>\n      <td>-11.202700</td>\n      <td>17.873900</td>\n      <td>0</td>\n      <td>0</td>\n      <td>0</td>\n      <td>0</td>\n      <td>0</td>\n      <td>0</td>\n      <td>...</td>\n      <td>19221</td>\n      <td>19238</td>\n      <td>19307</td>\n      <td>19315</td>\n      <td>19322</td>\n      <td>19400</td>\n      <td>19410</td>\n      <td>19509</td>\n      <td>19553</td>\n      <td>19624</td>\n    </tr>\n    <tr>\n      <th>...</th>\n      <td>...</td>\n      <td>...</td>\n      <td>...</td>\n      <td>...</td>\n      <td>...</td>\n      <td>...</td>\n      <td>...</td>\n      <td>...</td>\n      <td>...</td>\n      <td>...</td>\n      <td>...</td>\n      <td>...</td>\n      <td>...</td>\n      <td>...</td>\n      <td>...</td>\n      <td>...</td>\n      <td>...</td>\n      <td>...</td>\n      <td>...</td>\n      <td>...</td>\n      <td>...</td>\n    </tr>\n    <tr>\n      <th>254</th>\n      <td>NaN</td>\n      <td>Vietnam</td>\n      <td>14.058324</td>\n      <td>108.277199</td>\n      <td>0</td>\n      <td>0</td>\n      <td>0</td>\n      <td>0</td>\n      <td>0</td>\n      <td>0</td>\n      <td>...</td>\n      <td>1804</td>\n      <td>1804</td>\n      <td>1839</td>\n      <td>1844</td>\n      <td>1876</td>\n      <td>1876</td>\n      <td>1898</td>\n      <td>1898</td>\n      <td>1920</td>\n      <td>1920</td>\n    </tr>\n    <tr>\n      <th>255</th>\n      <td>NaN</td>\n      <td>West Bank and Gaza</td>\n      <td>31.952200</td>\n      <td>35.233200</td>\n      <td>0</td>\n      <td>0</td>\n      <td>0</td>\n      <td>0</td>\n      <td>0</td>\n      <td>0</td>\n      <td>...</td>\n      <td>163795</td>\n      <td>164557</td>\n      <td>165205</td>\n      <td>166119</td>\n      <td>166936</td>\n      <td>167744</td>\n      <td>168763</td>\n      <td>169915</td>\n      <td>171318</td>\n      <td>172588</td>\n    </tr>\n    <tr>\n      <th>256</th>\n      <td>NaN</td>\n      <td>Yemen</td>\n      <td>15.552727</td>\n      <td>48.516388</td>\n      <td>0</td>\n      <td>0</td>\n      <td>0</td>\n      <td>0</td>\n      <td>0</td>\n      <td>0</td>\n      <td>...</td>\n      <td>1433</td>\n      <td>1434</td>\n      <td>1434</td>\n      <td>1435</td>\n      <td>1435</td>\n      <td>1435</td>\n      <td>1435</td>\n      <td>1435</td>\n      <td>1435</td>\n      <td>1439</td>\n    </tr>\n    <tr>\n      <th>257</th>\n      <td>NaN</td>\n      <td>Zambia</td>\n      <td>-13.133897</td>\n      <td>27.849332</td>\n      <td>0</td>\n      <td>0</td>\n      <td>0</td>\n      <td>0</td>\n      <td>0</td>\n      <td>0</td>\n      <td>...</td>\n      <td>69803</td>\n      <td>70800</td>\n      <td>72635</td>\n      <td>73609</td>\n      <td>74498</td>\n      <td>75087</td>\n      <td>75563</td>\n      <td>76299</td>\n      <td>76498</td>\n      <td>77081</td>\n    </tr>\n    <tr>\n      <th>258</th>\n      <td>NaN</td>\n      <td>Zimbabwe</td>\n      <td>-19.015438</td>\n      <td>29.154857</td>\n      <td>0</td>\n      <td>0</td>\n      <td>0</td>\n      <td>0</td>\n      <td>0</td>\n      <td>0</td>\n      <td>...</td>\n      <td>32410</td>\n      <td>32455</td>\n      <td>32539</td>\n      <td>32590</td>\n      <td>32666</td>\n      <td>32905</td>\n      <td>32989</td>\n      <td>33392</td>\n      <td>33632</td>\n      <td>33759</td>\n    </tr>\n  </tbody>\n</table>\n<p>259 rows × 413 columns</p>\n</div>"
     },
     "metadata": {},
     "execution_count": 15
    }
   ],
   "source": [
    "dfRecovered = pd.read_csv(recovery)\n",
    "dfRecovered"
   ]
  },
  {
   "cell_type": "code",
   "execution_count": 16,
   "metadata": {},
   "outputs": [
    {
     "output_type": "execute_result",
     "data": {
      "text/plain": [
       "    Province/State Country/Region        Lat        Long  1/22/20  1/23/20  \\\n",
       "193            NaN    Philippines  12.879721  121.774017        0        0   \n",
       "\n",
       "     1/24/20  1/25/20  1/26/20  1/27/20  ...  2/24/21  2/25/21  2/26/21  \\\n",
       "193        0        0        0        0  ...   523321   524042   524582   \n",
       "\n",
       "     2/27/21  2/28/21  3/1/21  3/2/21  3/3/21  3/4/21  3/5/21  \n",
       "193   524865   534271  534351  534463  534778  535037  535207  \n",
       "\n",
       "[1 rows x 413 columns]"
      ],
      "text/html": "<div>\n<style scoped>\n    .dataframe tbody tr th:only-of-type {\n        vertical-align: middle;\n    }\n\n    .dataframe tbody tr th {\n        vertical-align: top;\n    }\n\n    .dataframe thead th {\n        text-align: right;\n    }\n</style>\n<table border=\"1\" class=\"dataframe\">\n  <thead>\n    <tr style=\"text-align: right;\">\n      <th></th>\n      <th>Province/State</th>\n      <th>Country/Region</th>\n      <th>Lat</th>\n      <th>Long</th>\n      <th>1/22/20</th>\n      <th>1/23/20</th>\n      <th>1/24/20</th>\n      <th>1/25/20</th>\n      <th>1/26/20</th>\n      <th>1/27/20</th>\n      <th>...</th>\n      <th>2/24/21</th>\n      <th>2/25/21</th>\n      <th>2/26/21</th>\n      <th>2/27/21</th>\n      <th>2/28/21</th>\n      <th>3/1/21</th>\n      <th>3/2/21</th>\n      <th>3/3/21</th>\n      <th>3/4/21</th>\n      <th>3/5/21</th>\n    </tr>\n  </thead>\n  <tbody>\n    <tr>\n      <th>193</th>\n      <td>NaN</td>\n      <td>Philippines</td>\n      <td>12.879721</td>\n      <td>121.774017</td>\n      <td>0</td>\n      <td>0</td>\n      <td>0</td>\n      <td>0</td>\n      <td>0</td>\n      <td>0</td>\n      <td>...</td>\n      <td>523321</td>\n      <td>524042</td>\n      <td>524582</td>\n      <td>524865</td>\n      <td>534271</td>\n      <td>534351</td>\n      <td>534463</td>\n      <td>534778</td>\n      <td>535037</td>\n      <td>535207</td>\n    </tr>\n  </tbody>\n</table>\n<p>1 rows × 413 columns</p>\n</div>"
     },
     "metadata": {},
     "execution_count": 16
    }
   ],
   "source": [
    "dfRecovered = dfRecovered.loc[dfRecovered[\"Country/Region\"] == \"Philippines\"]\n",
    "dfRecovered"
   ]
  },
  {
   "cell_type": "code",
   "execution_count": 17,
   "metadata": {},
   "outputs": [
    {
     "output_type": "execute_result",
     "data": {
      "text/plain": [
       "193    535207\n",
       "Name: 3/5/21, dtype: int64"
      ]
     },
     "metadata": {},
     "execution_count": 17
    }
   ],
   "source": [
    "n1 = dfRecovered.iloc[:,-1]"
   ]
  },
  {
   "cell_type": "code",
   "execution_count": 18,
   "metadata": {},
   "outputs": [
    {
     "output_type": "execute_result",
     "data": {
      "text/plain": [
       "193    535037\n",
       "Name: 3/4/21, dtype: int64"
      ]
     },
     "metadata": {},
     "execution_count": 18
    }
   ],
   "source": [
    "n2 = dfRecovered.iloc[:,-2]"
   ]
  },
  {
   "cell_type": "code",
   "execution_count": 19,
   "metadata": {},
   "outputs": [
    {
     "output_type": "stream",
     "name": "stdout",
     "text": [
      "193    1070244\ndtype: int64\n"
     ]
    }
   ],
   "source": [
    "n1 = dfRecovered.iloc[:,-1]\n",
    "n2 = dfRecovered.iloc[:,-2]\n",
    "print(n1 + n2)"
   ]
  },
  {
   "cell_type": "code",
   "execution_count": 20,
   "metadata": {},
   "outputs": [],
   "source": [
    "def percent(a, b) : \n",
    "  \n",
    "    result = float(((b - a) * 100) / a) \n",
    "  \n",
    "    return result \n"
   ]
  },
  {
   "cell_type": "code",
   "execution_count": 21,
   "metadata": {},
   "outputs": [
    {
     "output_type": "stream",
     "name": "stdout",
     "text": [
      "-0.03176341116614693\n"
     ]
    }
   ],
   "source": [
    "print(percent(n1,n2))"
   ]
  },
  {
   "cell_type": "code",
   "execution_count": 25,
   "metadata": {},
   "outputs": [],
   "source": [
    "def getDifference(df) :\n",
    "    \n",
    "    index1 = 1\n",
    "    index2 = 20\n",
    "    df = df.loc[df[\"Country/Region\"] == \"Philippines\"]\n",
    "    n2 = int(df.iloc[:,-index1])\n",
    "    n1 = int(df.iloc[:,-index2])\n",
    "    ans = str(float(\"{:.2f}\".format(percent(n1,n2)))) \n",
    "\n",
    "    if \"-\" in ans:\n",
    "        res = \"Decreased by {} %, from the data gathered 30 days ago\".format(ans)\n",
    "        return res\n",
    "    else:\n",
    "        res = \"Increased by {}%, from the data gathered 30 days ago\".format(ans)\n",
    "        return res\n",
    "\n",
    "\n",
    "def percent(a, b) : \n",
    "  \n",
    "    result = float(((b - a) * 100) / a) \n",
    "  \n",
    "    return result \n"
   ]
  },
  {
   "cell_type": "code",
   "execution_count": 26,
   "metadata": {},
   "outputs": [
    {
     "output_type": "stream",
     "name": "stdout",
     "text": [
      "Increased by 4.59%, from the data gathered 30 days ago\n"
     ]
    }
   ],
   "source": [
    "print(getDifference(dfRecovered))"
   ]
  },
  {
   "cell_type": "code",
   "execution_count": null,
   "metadata": {},
   "outputs": [],
   "source": []
  }
 ]
}